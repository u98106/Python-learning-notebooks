{
 "cells": [
  {
   "cell_type": "markdown",
   "metadata": {},
   "source": [
    "# Classes"
   ]
  },
  {
   "cell_type": "code",
   "execution_count": null,
   "metadata": {
    "collapsed": true
   },
   "outputs": [],
   "source": []
  },
  {
   "cell_type": "markdown",
   "metadata": {},
   "source": [
    "### The class statement"
   ]
  },
  {
   "cell_type": "code",
   "execution_count": null,
   "metadata": {
    "collapsed": false
   },
   "outputs": [],
   "source": [
    "class Account(object):\n",
    "    num_accounts = 0                       # class data\n",
    "    def __init__(self, name, balance):\n",
    "        self.name    = name                # public data\n",
    "        self._balance = balance            # private data\n",
    "        self.deposited = None\n",
    "        Account.num_accounts += 1\n",
    "        #name = name\n",
    "    def __del__(self):\n",
    "        Account.num_accounts -= 1\n",
    "    def deposit(self, amt):\n",
    "        self.deposited = True\n",
    "        self._balance += amt\n",
    "    def withdraw(self, amt):\n",
    "        self._balance -= amt\n",
    "    def enquire(self):\n",
    "        Account.num_accounts\n",
    "        return self._balance\n",
    "    @classmethod\n",
    "    def getNumAccounts(cls):\n",
    "        return Account.num_accounts"
   ]
  },
  {
   "cell_type": "code",
   "execution_count": null,
   "metadata": {
    "collapsed": false
   },
   "outputs": [],
   "source": [
    "Account.getNumAccounts()"
   ]
  },
  {
   "cell_type": "markdown",
   "metadata": {},
   "source": [
    "* `__init__` : constructor\n",
    "* `__del__` : destructor\n",
    "    * not always defined (garbage-collection)\n",
    "    * used for closing internal non-reference-counted objects, like open file handles, sockets, etc"
   ]
  },
  {
   "cell_type": "code",
   "execution_count": null,
   "metadata": {
    "collapsed": false
   },
   "outputs": [],
   "source": [
    "type(Account)"
   ]
  },
  {
   "cell_type": "markdown",
   "metadata": {},
   "source": [
    "### Instances"
   ]
  },
  {
   "cell_type": "code",
   "execution_count": null,
   "metadata": {
    "collapsed": false
   },
   "outputs": [],
   "source": [
    "a = Account('Jay', 1000.00)   # invokes Account.__init__(a, 'Jay', 1000.00)\n",
    "b = Account('Veeru', 500.00)\n",
    "#who = a.name\n",
    "#print Account.num_accounts\n",
    "a.deposit(200.0)     # deposit(a, 200.0)\n",
    "a.enquire()\n",
    "#print Account.getNumAccounts()"
   ]
  },
  {
   "cell_type": "code",
   "execution_count": null,
   "metadata": {
    "collapsed": true
   },
   "outputs": [],
   "source": [
    "class Struct:\n",
    "    pass"
   ]
  },
  {
   "cell_type": "code",
   "execution_count": null,
   "metadata": {
    "collapsed": true
   },
   "outputs": [],
   "source": [
    "s = Struct()"
   ]
  },
  {
   "cell_type": "code",
   "execution_count": null,
   "metadata": {
    "collapsed": true
   },
   "outputs": [],
   "source": [
    "s.a = 1\n",
    "s.b = 'hello'"
   ]
  },
  {
   "cell_type": "code",
   "execution_count": null,
   "metadata": {
    "collapsed": false
   },
   "outputs": [],
   "source": [
    "s.a, s.b"
   ]
  },
  {
   "cell_type": "markdown",
   "metadata": {},
   "source": [
    "### self"
   ]
  },
  {
   "cell_type": "markdown",
   "metadata": {},
   "source": [
    "* very similar to `this`\n",
    "* First argument to all instance methods\n",
    "* `inst.method(args)`  ==>   `class.method(inst, args)`\n",
    "* Also defines instance data : `self.name, self._balance`\n",
    "* instance data is added by using it inside an instance method\n",
    "* __NOT__ a keyword; just a (very well-followed) convention"
   ]
  },
  {
   "cell_type": "markdown",
   "metadata": {},
   "source": [
    "### Encapsulation"
   ]
  },
  {
   "cell_type": "markdown",
   "metadata": {},
   "source": [
    "* No language support for encapsulation\n",
    "* Convention: `_names` are taken as class private\n",
    "* `__name` taken as private for subclassing\n",
    "    * Some versions support name-mangling, but not uniformly supported, can be worked around\n",
    "* Respecting Data-hiding conventions programmers responsibility\n",
    "  > We're all adults here."
   ]
  },
  {
   "cell_type": "markdown",
   "metadata": {},
   "source": [
    "### Inheritance"
   ]
  },
  {
   "cell_type": "markdown",
   "metadata": {},
   "source": [
    "* Class specialization\n",
    "* `derived/sub class` specializes `base/super class`\n",
    "* `derived class` inherits all attributes of `base class`\n",
    "    * may redifine any of these\n",
    "    * may define attributes of its own"
   ]
  },
  {
   "cell_type": "code",
   "execution_count": null,
   "metadata": {
    "collapsed": false
   },
   "outputs": [],
   "source": [
    "class TaxedAccount(Account):\n",
    "    def __init__(self, name, balance):\n",
    "        #Account.__init__(self, name, balance)\n",
    "        super(TaxedAccount, self).__init__(name, balance)      # Call base class ctr\n",
    "        self.tax = 0\n",
    "        \n",
    "    def _tax(self):                                            # New private method\n",
    "        return self._balance * self.tax if self._balance>1000.0 else 0\n",
    "        \n",
    "    def enquire(self):\n",
    "        return super(TaxedAccount, self).enquire(self) - self._tax()"
   ]
  },
  {
   "cell_type": "code",
   "execution_count": null,
   "metadata": {
    "collapsed": false
   },
   "outputs": [],
   "source": [
    "class C(B):\n",
    "    def __init__(self):\n",
    "        super(B,self)"
   ]
  },
  {
   "cell_type": "code",
   "execution_count": null,
   "metadata": {
    "collapsed": false
   },
   "outputs": [],
   "source": [
    "t = TaxedAccount('abc', 1000.0)"
   ]
  },
  {
   "cell_type": "code",
   "execution_count": null,
   "metadata": {
    "collapsed": false
   },
   "outputs": [],
   "source": [
    "t.deposit(100.0)   # Account.deposit(t, 100.0)\n",
    "a.deposit()\n",
    "t.enquire()"
   ]
  },
  {
   "cell_type": "code",
   "execution_count": null,
   "metadata": {
    "collapsed": false
   },
   "outputs": [],
   "source": [
    "type(t)"
   ]
  },
  {
   "cell_type": "code",
   "execution_count": null,
   "metadata": {
    "collapsed": true
   },
   "outputs": [],
   "source": []
  },
  {
   "cell_type": "code",
   "execution_count": null,
   "metadata": {
    "collapsed": true
   },
   "outputs": [],
   "source": [
    "super?"
   ]
  },
  {
   "cell_type": "code",
   "execution_count": null,
   "metadata": {
    "collapsed": false
   },
   "outputs": [],
   "source": [
    "a = TaxedAccount('Jay', 1000.00)\n",
    "b = TaxedAccount('Veeru', 500.00)\n",
    "a.deposit(200.0)\n",
    "a.enquire()"
   ]
  },
  {
   "cell_type": "code",
   "execution_count": null,
   "metadata": {
    "collapsed": false
   },
   "outputs": [],
   "source": [
    "super(TaxedAccount, a).enquire()\n",
    "\n",
    "#basea = super(TaxedAccount, a)"
   ]
  },
  {
   "cell_type": "code",
   "execution_count": null,
   "metadata": {
    "collapsed": true
   },
   "outputs": [],
   "source": []
  },
  {
   "cell_type": "markdown",
   "metadata": {},
   "source": [
    "#### Multiple inheritance"
   ]
  },
  {
   "cell_type": "code",
   "execution_count": null,
   "metadata": {
    "collapsed": true
   },
   "outputs": [],
   "source": [
    "class DepositCharge(object):\n",
    "    fee = 5.00\n",
    "    def deposit_fee(self):\n",
    "        self.withdraw(self.fee)\n",
    "\n",
    "class WithdrawlCharge(object):\n",
    "    fee = 2.50\n",
    "    def withdrawl_fee(self):\n",
    "        self.withdraw(self.fee)\n",
    "\n",
    "        \n",
    "#super(self.__class__, self).withdraw(self.fee)"
   ]
  },
  {
   "cell_type": "code",
   "execution_count": null,
   "metadata": {
    "collapsed": false
   },
   "outputs": [],
   "source": []
  },
  {
   "cell_type": "code",
   "execution_count": null,
   "metadata": {
    "collapsed": false
   },
   "outputs": [],
   "source": [
    "class EvilAccount(TaxedAccount, DepositCharge, WithdrawlCharge): \n",
    "    def __init__(self, *args):\n",
    "        super(EvilAccount, self).__init__(*args)\n",
    "    def deposit(self,amt):\n",
    "        self.deposit_fee()\n",
    "        super(EvilAccount,self).deposit(amt)\n",
    "        \n",
    "    def withdraw(self,amt):\n",
    "        self.withdrawl_fee()\n",
    "        super(EvilAccount,self).withdraw(amt)"
   ]
  },
  {
   "cell_type": "code",
   "execution_count": null,
   "metadata": {
    "collapsed": false
   },
   "outputs": [],
   "source": [
    "a = EvilAccount('Jay', 1000.00)\n",
    "a.deposit(200.0)\n",
    "print a.enquire()\n",
    "a.withdraw(10.0)\n",
    "print a.enquire()"
   ]
  },
  {
   "cell_type": "markdown",
   "metadata": {
    "collapsed": true
   },
   "source": [
    "For an excellent article on super:\n",
    "https://rhettinger.wordpress.com/2011/05/26/super-considered-super/"
   ]
  },
  {
   "cell_type": "markdown",
   "metadata": {},
   "source": [
    "### Method Resolution Order (MRO) and Duck Typing"
   ]
  },
  {
   "cell_type": "markdown",
   "metadata": {},
   "source": [
    "* Order in which Methods are resolved\n",
    "    * Depth-first, left to right\n",
    "* Most specialized class should be left-most, most base right-most\n",
    "* Method binding independent of object type\n",
    "    * `obj.name` will work for any object that has an attribute `name`\n",
    "* This is called **Duck Typing**\n",
    "\n",
    "> **\"If it looks like a duck, walks like a duck, quacks like a duck .. I'd call it a duck!**"
   ]
  },
  {
   "cell_type": "code",
   "execution_count": null,
   "metadata": {
    "collapsed": false
   },
   "outputs": [],
   "source": [
    "EvilAccount.__dict__"
   ]
  },
  {
   "cell_type": "code",
   "execution_count": null,
   "metadata": {
    "collapsed": false
   },
   "outputs": [],
   "source": [
    "import inspect\n",
    "inspect.getmro(EvilAccount)"
   ]
  },
  {
   "cell_type": "markdown",
   "metadata": {},
   "source": [
    "### Static methods"
   ]
  },
  {
   "cell_type": "code",
   "execution_count": null,
   "metadata": {
    "collapsed": true
   },
   "outputs": [],
   "source": [
    "def add(x,y)\n",
    "\n",
    "class Foo(object):\n",
    "    @staticmethod\n",
    "    def add(x,y):\n",
    "        return x + y"
   ]
  },
  {
   "cell_type": "code",
   "execution_count": null,
   "metadata": {
    "collapsed": false
   },
   "outputs": [],
   "source": [
    "x = Foo.add(3,4) # x = 7"
   ]
  },
  {
   "cell_type": "code",
   "execution_count": null,
   "metadata": {
    "collapsed": false
   },
   "outputs": [],
   "source": [
    "x"
   ]
  },
  {
   "cell_type": "markdown",
   "metadata": {
    "collapsed": false
   },
   "source": [
    "* No `self`\n",
    "* decorated with @staticmethod\n",
    "* Commonly used for defining custom constructors"
   ]
  },
  {
   "cell_type": "code",
   "execution_count": null,
   "metadata": {
    "collapsed": false
   },
   "outputs": [],
   "source": [
    "import time\n",
    "class Date(object):\n",
    "    \n",
    "    def __init__(self,year,month,day):\n",
    "        self.year = year \n",
    "        self.month = month\n",
    "        self.day = day \n",
    "    \n",
    "    @staticmethod\n",
    "    def now():\n",
    "        t = time.localtime()\n",
    "        return Date(t.tm_year, t.tm_mon, t.tm_mday) \n",
    "            \n",
    "    @staticmethod\n",
    "    def tomorrow():\n",
    "        t = time.localtime(time.time()+86400) \n",
    "        return Date(t.tm_year, t.tm_mon, t.tm_mday)"
   ]
  },
  {
   "cell_type": "code",
   "execution_count": null,
   "metadata": {
    "collapsed": false
   },
   "outputs": [],
   "source": [
    "# Example of creating some dates\n",
    "a = Date(1967, 4, 9)\n",
    "b = Date.now() # Calls static method now()\n",
    "c = Date.tomorrow() # Calls static method tomorrow()\n"
   ]
  },
  {
   "cell_type": "code",
   "execution_count": null,
   "metadata": {
    "collapsed": false
   },
   "outputs": [],
   "source": [
    "a.month"
   ]
  },
  {
   "cell_type": "code",
   "execution_count": null,
   "metadata": {
    "collapsed": true
   },
   "outputs": [],
   "source": []
  },
  {
   "cell_type": "markdown",
   "metadata": {},
   "source": [
    "### Class methods"
   ]
  },
  {
   "cell_type": "markdown",
   "metadata": {},
   "source": [
    "* Operate on the class itself\n",
    "* Defined using `@classmethod` decorator\n",
    "* Take the class object as the first argument"
   ]
  },
  {
   "cell_type": "code",
   "execution_count": null,
   "metadata": {
    "collapsed": false
   },
   "outputs": [],
   "source": [
    "class EuroDate(Date):\n",
    "    pass\n",
    "d = EuroDate.now()\n",
    "type(d)"
   ]
  },
  {
   "cell_type": "code",
   "execution_count": null,
   "metadata": {
    "collapsed": true
   },
   "outputs": [],
   "source": [
    "class Date(object):\n",
    "    def __init__(self,year,month,day):\n",
    "        self.year = year \n",
    "        self.month = month\n",
    "        self.day = day \n",
    "        \n",
    "    @classmethod\n",
    "    def now(cls):\n",
    "        print cls\n",
    "        t = time.localtime(time.time())\n",
    "        return cls(t.tm_year, t.tm_mon, t.tm_mday)"
   ]
  },
  {
   "cell_type": "code",
   "execution_count": null,
   "metadata": {
    "collapsed": false
   },
   "outputs": [],
   "source": [
    "class EuroDate(Date):\n",
    "    #\n",
    "    pass\n",
    "\n",
    "\n",
    "d = Date.now()\n",
    "e = EuroDate.now()\n",
    "type(d), type(e)\n",
    "\n"
   ]
  },
  {
   "cell_type": "code",
   "execution_count": null,
   "metadata": {
    "collapsed": false
   },
   "outputs": [],
   "source": [
    "#dir(list)"
   ]
  },
  {
   "cell_type": "markdown",
   "metadata": {},
   "source": [
    "### Magic Methods & Operator Overloading"
   ]
  },
  {
   "cell_type": "markdown",
   "metadata": {
    "collapsed": true
   },
   "source": [
    "* Methods with __d__ouble-__under__scores are special\n",
    "    * __dunder__ or magic methods\n",
    "* Implementing classes gain support for a variety of constructs\n",
    "    * Arithmetic operators overloading\n",
    "    * Comparison operators overloading\n",
    "    * Logical operators overloading\n",
    "    * Contexts\n",
    "    * Object representations\n",
    "    * Type casting"
   ]
  },
  {
   "cell_type": "markdown",
   "metadata": {
    "collapsed": true
   },
   "source": []
  },
  {
   "cell_type": "code",
   "execution_count": null,
   "metadata": {
    "collapsed": true
   },
   "outputs": [],
   "source": [
    "class Pair(object):\n",
    "    def __init__(self, a, b):\n",
    "        self.a, self.b = a,b"
   ]
  },
  {
   "cell_type": "code",
   "execution_count": null,
   "metadata": {
    "collapsed": true
   },
   "outputs": [],
   "source": []
  },
  {
   "cell_type": "code",
   "execution_count": null,
   "metadata": {
    "collapsed": true
   },
   "outputs": [],
   "source": []
  },
  {
   "cell_type": "code",
   "execution_count": null,
   "metadata": {
    "collapsed": true
   },
   "outputs": [],
   "source": []
  },
  {
   "cell_type": "code",
   "execution_count": null,
   "metadata": {
    "collapsed": true
   },
   "outputs": [],
   "source": [
    "class Complex(object):\n",
    "    def __init__(self,real,imag=0):\n",
    "        self._real = float(real)\n",
    "        self._imag = float(imag)\n",
    "#    def __repr__(self):\n",
    "#        return \"Complex(%s,%s)\" % (self.real, self.imag)         \n",
    "#    def __str__(self): \n",
    "#        return \"(%g+%gj)\" % (self.real, self.imag)\n",
    "    def real(self):\n",
    "        return self._real\n",
    "    def __int__(self):\n",
    "        return int(self.real)\n",
    "    def __add__(self,other):   # self + other \n",
    "        return Complex(self.real + other.real, self.imag + other.imag) \n",
    "    def __sub__(self,other):   # self - other \n",
    "        return Complex(self.real - other.real, self.imag - other.imag)\n",
    "    def __lt__(self, other):\n",
    "        return "
   ]
  },
  {
   "cell_type": "code",
   "execution_count": null,
   "metadata": {
    "collapsed": false
   },
   "outputs": [],
   "source": [
    "l1 = [1,2,3,4]\n",
    "l2 = [4,5,6,7]\n",
    "l1 + l2\n",
    "dir(list)"
   ]
  },
  {
   "cell_type": "code",
   "execution_count": null,
   "metadata": {
    "collapsed": false
   },
   "outputs": [],
   "source": [
    "c1 = Complex(1.0,2.0)\n",
    "c2 = Complex(2.0,5.0)\n",
    "c3 = c1+c2     # Complex.__add__(c1,c2) called\n",
    "if c1<c2:\n",
    "#c3             # Complex.__repr__ called\n",
    "#print c3\n"
   ]
  },
  {
   "cell_type": "code",
   "execution_count": null,
   "metadata": {
    "collapsed": false
   },
   "outputs": [],
   "source": [
    "Pair(c3)"
   ]
  },
  {
   "cell_type": "code",
   "execution_count": null,
   "metadata": {
    "collapsed": false
   },
   "outputs": [],
   "source": [
    "print c1+c2    # Complex.__str__"
   ]
  },
  {
   "cell_type": "code",
   "execution_count": null,
   "metadata": {
    "collapsed": true
   },
   "outputs": [],
   "source": []
  },
  {
   "cell_type": "code",
   "execution_count": null,
   "metadata": {
    "collapsed": false
   },
   "outputs": [],
   "source": [
    "str(c1+c2)"
   ]
  },
  {
   "cell_type": "code",
   "execution_count": null,
   "metadata": {
    "collapsed": false
   },
   "outputs": [],
   "source": [
    "int(c1)"
   ]
  },
  {
   "cell_type": "markdown",
   "metadata": {},
   "source": [
    "#### Dunders for comparison and logic ops\n",
    "* `__lt__, __le__, __gt__, __ge__, __eq__, __ne__`\n",
    "* Defining any two defines the rest\n",
    "* `__and__, __or__, __not__`\n",
    "* `__enter__` and `__exit__` for contexts"
   ]
  },
  {
   "cell_type": "code",
   "execution_count": null,
   "metadata": {
    "collapsed": false
   },
   "outputs": [],
   "source": [
    "nums = [1,2,3,4]\n",
    "len(nums)"
   ]
  },
  {
   "cell_type": "markdown",
   "metadata": {},
   "source": []
  },
  {
   "cell_type": "markdown",
   "metadata": {},
   "source": []
  },
  {
   "cell_type": "markdown",
   "metadata": {},
   "source": [
    "### Properties and Descriptors"
   ]
  },
  {
   "cell_type": "markdown",
   "metadata": {},
   "source": [
    "* Normal (public) data attributes readable/writable directly\n",
    "* Many classes define getters/setters to hide data \n",
    "* Property is a special attribute that calculates its value when accessed\n",
    "* Has a setter equivalent too"
   ]
  },
  {
   "cell_type": "code",
   "execution_count": null,
   "metadata": {
    "collapsed": false
   },
   "outputs": [],
   "source": [
    "class Foo(object):\n",
    "    def __init__(self, name):\n",
    "        self._name = name\n",
    "\n",
    "    @property\n",
    "    def name(self):\n",
    "        return self._name\n",
    "    \n",
    "    @name.setter\n",
    "    def name(self, name):\n",
    "        print 'Setting to ', name\n",
    "        self._name = name\n",
    "    \n",
    "    \n",
    "    \n",
    "    \n",
    "foo = Foo('xyz')\n",
    "print foo.name\n",
    "foo.name = 'abc'\n",
    "print foo.name"
   ]
  },
  {
   "cell_type": "code",
   "execution_count": null,
   "metadata": {
    "collapsed": true
   },
   "outputs": [],
   "source": []
  },
  {
   "cell_type": "code",
   "execution_count": null,
   "metadata": {
    "collapsed": true
   },
   "outputs": [],
   "source": []
  },
  {
   "cell_type": "code",
   "execution_count": null,
   "metadata": {
    "collapsed": false
   },
   "outputs": [],
   "source": [
    "class Foo(object):\n",
    "    def __init__(self,name): \n",
    "        self.__name = name \n",
    "    @property\n",
    "    def name(self): \n",
    "        return self.__name \n",
    "    @name.setter \n",
    "    def name(self,value): \n",
    "        if not isinstance(value,str): \n",
    "            raise TypeError(\"Must be a string\") \n",
    "        self.__name = value \n",
    "    @name.deleter \n",
    "    def name(self):\n",
    "        raise TypeError(\"Can't delete name\")"
   ]
  },
  {
   "cell_type": "code",
   "execution_count": null,
   "metadata": {
    "collapsed": false
   },
   "outputs": [],
   "source": [
    "g = Foo('Guido')\n",
    "print g.name\n",
    "g.name = 'Monty'\n",
    "print g.name\n",
    "g.name = 45\n",
    "del g.name"
   ]
  },
  {
   "cell_type": "markdown",
   "metadata": {},
   "source": [
    "* Any object that defines `__get__, __set__ and __dell__` is acceptable as a property\n",
    "* This is the `Descriptor` interface\n",
    "* Descriptors instantiable only at the class level, not instance level"
   ]
  },
  {
   "cell_type": "code",
   "execution_count": null,
   "metadata": {
    "collapsed": true
   },
   "outputs": [],
   "source": [
    "class TypedProperty(object):\n",
    "    def __init__(self,name,type,default=None):\n",
    "        self.name = \"_\" + name\n",
    "        self.type = type\n",
    "        self.default = default if default else type()\n",
    "    def __get__(self,instance,cls): \n",
    "        #return getattr(instance,self.name,self.default) \n",
    "        return instance.(self.name)\n",
    "    def __set__(self,instance,value):\n",
    "        if not isinstance(value,self.type):\n",
    "            raise TypeError(\"Must be a %s\" % self.type) \n",
    "        setattr(instance,self.name,value) \n",
    "    def __delete__(self,instance):\n",
    "        raise AttributeError(\"Can't delete attribute\")\n",
    "    \n",
    "class Foo(object):\n",
    "    name = TypedProperty(\"xyz\",str, 'abc') \n",
    "    num = TypedProperty(\"num\",int,42)\n"
   ]
  },
  {
   "cell_type": "code",
   "execution_count": null,
   "metadata": {
    "collapsed": false
   },
   "outputs": [],
   "source": [
    "f = Foo()\n",
    "a = f.name \n",
    "f.name = \"Guido\" \n",
    "#del f.name\n"
   ]
  },
  {
   "cell_type": "code",
   "execution_count": null,
   "metadata": {
    "collapsed": false
   },
   "outputs": [],
   "source": [
    "f._xyz"
   ]
  },
  {
   "cell_type": "code",
   "execution_count": null,
   "metadata": {
    "collapsed": false
   },
   "outputs": [],
   "source": [
    "f.name = 42"
   ]
  },
  {
   "cell_type": "code",
   "execution_count": null,
   "metadata": {
    "collapsed": true
   },
   "outputs": [],
   "source": [
    "class MyDict(dict):\n",
    "    __slots__ = ['a','b','c']\n",
    "    def __init__(self, data):\n",
    "        super(MyDict, self).__init__(data)\n",
    "    pass"
   ]
  },
  {
   "cell_type": "code",
   "execution_count": null,
   "metadata": {
    "collapsed": true
   },
   "outputs": [],
   "source": [
    "d = MyDict({'a':1, 'b':2, })\n"
   ]
  },
  {
   "cell_type": "code",
   "execution_count": null,
   "metadata": {
    "collapsed": false
   },
   "outputs": [],
   "source": [
    "d['x'] = 10"
   ]
  },
  {
   "cell_type": "code",
   "execution_count": null,
   "metadata": {
    "collapsed": false
   },
   "outputs": [],
   "source": [
    "d"
   ]
  },
  {
   "cell_type": "code",
   "execution_count": null,
   "metadata": {
    "collapsed": true
   },
   "outputs": [],
   "source": []
  },
  {
   "cell_type": "code",
   "execution_count": null,
   "metadata": {
    "collapsed": true
   },
   "outputs": [],
   "source": [
    "a = dict({'a':1, 'b':2})\n",
    "b = dict({'a':10, 'b':11})"
   ]
  },
  {
   "cell_type": "code",
   "execution_count": null,
   "metadata": {
    "collapsed": true
   },
   "outputs": [],
   "source": []
  },
  {
   "cell_type": "code",
   "execution_count": null,
   "metadata": {
    "collapsed": true
   },
   "outputs": [],
   "source": []
  },
  {
   "cell_type": "code",
   "execution_count": null,
   "metadata": {
    "collapsed": true
   },
   "outputs": [],
   "source": []
  },
  {
   "cell_type": "code",
   "execution_count": null,
   "metadata": {
    "collapsed": true
   },
   "outputs": [],
   "source": []
  },
  {
   "cell_type": "code",
   "execution_count": null,
   "metadata": {
    "collapsed": true
   },
   "outputs": [],
   "source": []
  }
 ],
 "metadata": {
  "kernelspec": {
   "display_name": "Python 2",
   "language": "python",
   "name": "python2"
  },
  "language_info": {
   "codemirror_mode": {
    "name": "ipython",
    "version": 2
   },
   "file_extension": ".py",
   "mimetype": "text/x-python",
   "name": "python",
   "nbconvert_exporter": "python",
   "pygments_lexer": "ipython2",
   "version": "2.7.12"
  }
 },
 "nbformat": 4,
 "nbformat_minor": 0
}
