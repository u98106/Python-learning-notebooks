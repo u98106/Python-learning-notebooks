{
 "cells": [
  {
   "cell_type": "markdown",
   "metadata": {},
   "source": [
    "* Pattern Matching\n",
    "    * pattern == [string]  => True/False\n",
    "\n",
    "GLOB-style PM\n",
    "\n",
    "dir *.txt\n",
    "dir *.???\n",
    "\n",
    "wild-card : *, ?  (meta-characters)"
   ]
  },
  {
   "cell_type": "markdown",
   "metadata": {},
   "source": [
    "* Pattern Language\n",
    "    * Meta-characters\n",
    "    * Occurences\n",
    "    * Char class"
   ]
  },
  {
   "cell_type": "markdown",
   "metadata": {},
   "source": [
    "| MetaChar | Meaning |\n",
    "|---|---|\n",
    "| * | 0 or more |\n",
    "| + | 1 or more | \n",
    "| ? | 0/1 |\n",
    "| {n,m} | n-m |"
   ]
  },
  {
   "cell_type": "markdown",
   "metadata": {},
   "source": [
    "| Char classes |\n",
    "|-------|\n",
    "| [a-z] |\n",
    "| [a-zA-Z0-9] |\n",
    "| [^a-z] # caret |\n",
    "| . |\n"
   ]
  },
  {
   "cell_type": "markdown",
   "metadata": {},
   "source": [
    "### Anchors\n",
    "| Anchor | Meaning |\n",
    "|---|---|\n",
    "| ^ | Starts with |\n",
    "| $ | Ends with |\n",
    "| \\b | Word boundary |"
   ]
  },
  {
   "cell_type": "markdown",
   "metadata": {},
   "source": [
    "[A-Z].*      A1 AA Aa ABCD A$$$\n",
    "\n",
    "\n",
    "(a*)   : 0 or more occ of 'a'\n",
    "         '', a, aa, aaa, \n",
    "a+     : 1 or more occ of 'a'\n",
    "\n",
    "ab+      ab, abb, abbb, abbbbb\n",
    "(ab)*    '', ab, abab, ababab,\n",
    "a+b*     a, ab, aab, aa, aaaa, aaa\n",
    "[A-Z][a-z]* [A-Z][a-z]*   Valid names : Hictor Hugo, \n",
    "\n",
    "user@domain.ext\n",
    "\n",
    "userRE = [A-Za-z][A-Za-z0-9_.-]*    first.last\n",
    "domainRE = [A-Za-z0-9_-]+\n",
    "extRE = [a-zA-Z]{2,4}\n",
    "\n",
    "\n",
    "[A-Za-z][A-Za-z0-9_.-]{,31}@[A-Za-z0-9_-]+\\.[a-zA-Z]{2,4}\n",
    "\n",
    "emailRE = userRE + '@' + domainRE + r'\\.' + extRE"
   ]
  },
  {
   "cell_type": "markdown",
   "metadata": {},
   "source": [
    "(0|+91|0091)?-?[1-9][0-9]{4}-?[0-9]{5}"
   ]
  },
  {
   "cell_type": "code",
   "execution_count": null,
   "metadata": {
    "collapsed": true
   },
   "outputs": [],
   "source": []
  },
  {
   "cell_type": "markdown",
   "metadata": {},
   "source": [
    "*\n",
    "+\n",
    "?\n",
    "^\n",
    "$\n"
   ]
  },
  {
   "cell_type": "markdown",
   "metadata": {},
   "source": [
    "### RE in python"
   ]
  },
  {
   "cell_type": "code",
   "execution_count": 1,
   "metadata": {
    "collapsed": true
   },
   "outputs": [],
   "source": [
    "import re\n",
    "#import pandas as pd\n",
    "#import numpy as np"
   ]
  },
  {
   "cell_type": "code",
   "execution_count": 4,
   "metadata": {
    "collapsed": false
   },
   "outputs": [
    {
     "data": {
      "text/plain": [
       "['DEBUG',\n",
       " 'DOTALL',\n",
       " 'I',\n",
       " 'IGNORECASE',\n",
       " 'L',\n",
       " 'LOCALE',\n",
       " 'M',\n",
       " 'MULTILINE',\n",
       " 'S',\n",
       " 'Scanner',\n",
       " 'T',\n",
       " 'TEMPLATE',\n",
       " 'U',\n",
       " 'UNICODE',\n",
       " 'VERBOSE',\n",
       " 'X',\n",
       " '_MAXCACHE',\n",
       " '__all__',\n",
       " '__builtins__',\n",
       " '__doc__',\n",
       " '__file__',\n",
       " '__name__',\n",
       " '__package__',\n",
       " '__version__',\n",
       " '_alphanum',\n",
       " '_cache',\n",
       " '_cache_repl',\n",
       " '_compile',\n",
       " '_compile_repl',\n",
       " '_expand',\n",
       " '_locale',\n",
       " '_pattern_type',\n",
       " '_pickle',\n",
       " '_subx',\n",
       " 'compile',\n",
       " 'copy_reg',\n",
       " 'error',\n",
       " 'escape',\n",
       " 'findall',\n",
       " 'finditer',\n",
       " 'match',\n",
       " 'purge',\n",
       " 'search',\n",
       " 'split',\n",
       " 'sre_compile',\n",
       " 'sre_parse',\n",
       " 'sub',\n",
       " 'subn',\n",
       " 'sys',\n",
       " 'template']"
      ]
     },
     "execution_count": 4,
     "metadata": {},
     "output_type": "execute_result"
    }
   ],
   "source": [
    "dir(re)"
   ]
  },
  {
   "cell_type": "code",
   "execution_count": 5,
   "metadata": {
    "collapsed": false
   },
   "outputs": [
    {
     "name": "stdout",
     "output_type": "stream",
     "text": [
      "Help on function match in module re:\n",
      "\n",
      "match(pattern, string, flags=0)\n",
      "    Try to apply the pattern at the start of the string, returning\n",
      "    a match object, or None if no match was found.\n",
      "\n"
     ]
    }
   ],
   "source": [
    "help(re.match)"
   ]
  },
  {
   "cell_type": "code",
   "execution_count": 8,
   "metadata": {
    "collapsed": false
   },
   "outputs": [
    {
     "data": {
      "text/plain": [
       "<_sre.SRE_Match at 0x106160bf8>"
      ]
     },
     "execution_count": 8,
     "metadata": {},
     "output_type": "execute_result"
    }
   ],
   "source": [
    "m = re.match(r'[0-9]+', '192')\n",
    "m"
   ]
  },
  {
   "cell_type": "code",
   "execution_count": 11,
   "metadata": {
    "collapsed": false
   },
   "outputs": [],
   "source": [
    "m = re.match(r'[0-9]+', 'blah')\n",
    "m"
   ]
  },
  {
   "cell_type": "code",
   "execution_count": 13,
   "metadata": {
    "collapsed": false
   },
   "outputs": [
    {
     "name": "stdout",
     "output_type": "stream",
     "text": [
      "Nope\n"
     ]
    }
   ],
   "source": [
    "if re.match(r'[0-9]+', 'blah'):\n",
    "    print 'Match'\n",
    "else:\n",
    "    print 'Nope'\n"
   ]
  },
  {
   "cell_type": "code",
   "execution_count": 29,
   "metadata": {
    "collapsed": true
   },
   "outputs": [],
   "source": [
    "def match(exp, string):\n",
    "    if re.search('^' + exp + '$', string):\n",
    "        print string"
   ]
  },
  {
   "cell_type": "code",
   "execution_count": 25,
   "metadata": {
    "collapsed": false
   },
   "outputs": [],
   "source": [
    "match(r'^[0-9]+$', 'bbb111')"
   ]
  },
  {
   "cell_type": "code",
   "execution_count": 47,
   "metadata": {
    "collapsed": true
   },
   "outputs": [],
   "source": [
    "userRE = r'[A-Za-z][A-Za-z0-9_.-]*'\n",
    "domainRE = r'[A-Za-z0-9_-]+'\n",
    "extRE = r'[a-zA-Z]{2,4}'\n",
    "\n",
    "emailRE = userRE + '@' + domainRE + r'\\.' + extRE"
   ]
  },
  {
   "cell_type": "code",
   "execution_count": 28,
   "metadata": {
    "collapsed": false
   },
   "outputs": [],
   "source": [
    "match(emailRE, '111a@b.com')"
   ]
  },
  {
   "cell_type": "code",
   "execution_count": 48,
   "metadata": {
    "collapsed": false
   },
   "outputs": [
    {
     "data": {
      "text/plain": [
       "['u98106@gmail.com', 'ash@myblog.org']"
      ]
     },
     "execution_count": 48,
     "metadata": {},
     "output_type": "execute_result"
    }
   ],
   "source": [
    "re.findall(emailRE, 'my mail id is u98106@gmail.com. Alternate ash@myblog.org.')"
   ]
  },
  {
   "cell_type": "code",
   "execution_count": 44,
   "metadata": {
    "collapsed": false
   },
   "outputs": [
    {
     "data": {
      "text/plain": [
       "tuple"
      ]
     },
     "execution_count": 44,
     "metadata": {},
     "output_type": "execute_result"
    }
   ],
   "source": []
  },
  {
   "cell_type": "code",
   "execution_count": null,
   "metadata": {
    "collapsed": true
   },
   "outputs": [],
   "source": []
  },
  {
   "cell_type": "code",
   "execution_count": null,
   "metadata": {
    "collapsed": true
   },
   "outputs": [],
   "source": []
  }
 ],
 "metadata": {
  "kernelspec": {
   "display_name": "Python 2",
   "language": "python",
   "name": "python2"
  },
  "language_info": {
   "codemirror_mode": {
    "name": "ipython",
    "version": 2
   },
   "file_extension": ".py",
   "mimetype": "text/x-python",
   "name": "python",
   "nbconvert_exporter": "python",
   "pygments_lexer": "ipython2",
   "version": "2.7.12"
  }
 },
 "nbformat": 4,
 "nbformat_minor": 0
}
