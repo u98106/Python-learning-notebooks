{
 "cells": [
  {
   "cell_type": "markdown",
   "metadata": {},
   "source": [
    "# MongoDB"
   ]
  },
  {
   "cell_type": "code",
   "execution_count": 1,
   "metadata": {
    "collapsed": false
   },
   "outputs": [
    {
     "data": {
      "text/html": [
       "<style>table td:nth-child(1) {font-weight:bold; background-color: #fec; }</style>"
      ],
      "text/plain": [
       "<IPython.core.display.HTML object>"
      ]
     },
     "execution_count": 1,
     "metadata": {},
     "output_type": "execute_result"
    }
   ],
   "source": [
    "from IPython.core.display import HTML\n",
    "css = \"table td:nth-child(1) {font-weight:bold; background-color: #fec; }\"\n",
    "HTML('<style>{}</style>'.format(css))"
   ]
  },
  {
   "cell_type": "markdown",
   "metadata": {},
   "source": [
    "### What is `nosql`?"
   ]
  },
  {
   "cell_type": "markdown",
   "metadata": {},
   "source": [
    "> A NoSQL database provides a mechanism for storage and retrieval of data which is modeled in <b>means other than the tabular relations</b> used in relational databases."
   ]
  },
  {
   "cell_type": "markdown",
   "metadata": {},
   "source": [
    "- MongoDB is a `document database`\n",
    "- Binary JSON (BSON) data constitutes a document\n",
    "- Each data-base constitutes `collection`s of such documents\n",
    "- Each document includes the `schema` for the data it stores\n",
    "    - could potentially vary between objects\n",
    "    - usually is the same across "
   ]
  },
  {
   "cell_type": "markdown",
   "metadata": {},
   "source": [
    "### Why nosql?"
   ]
  },
  {
   "cell_type": "markdown",
   "metadata": {},
   "source": [
    "Relational databases were not designed to cope with the scale and agility challenges of modern applications\n",
    "\n",
    "- Developers are working with applications that create massive volumes of new, rapidly changing data types — structured, semi-structured, unstructured and polymorphic data.\n",
    "- Waterfall development cycle is long gone. Now small teams work in agile sprints, iterating quickly and pushing code every week or two\n",
    "- Applications `always-on`, accessible from many different devices and scaled globally to millions of users.\n",
    "- scale-out architectures using open source software, commodity servers and cloud computing instead of large monolithic servers and storage infrastructure."
   ]
  },
  {
   "cell_type": "markdown",
   "metadata": {},
   "source": [
    "### nosql benefits"
   ]
  },
  {
   "cell_type": "markdown",
   "metadata": {},
   "source": [
    "- Large volumes of rapidly changing structured, semi-structured, and unstructured data\n",
    "- Agile sprints, quick schema iteration, and frequent code pushes\n",
    "- Object-oriented programming that is easy to use and flexible\n",
    "- Geographically distributed scale-out architecture instead of expensive, monolithic architecture"
   ]
  },
  {
   "cell_type": "markdown",
   "metadata": {},
   "source": [
    "### mongoDB elements"
   ]
  },
  {
   "cell_type": "markdown",
   "metadata": {},
   "source": [
    "RDBMS | MongoDB\n",
    "------|---------\n",
    "Database | Database\n",
    "Table | Collection\n",
    "Tuple/Row | Document\n",
    "column | Field\n",
    "Table Join | Embedded Documents\n",
    "Primary Key | Primary Key (Default key `_id` provided by mongodb itself)"
   ]
  },
  {
   "cell_type": "markdown",
   "metadata": {},
   "source": [
    "### Sample Document"
   ]
  },
  {
   "cell_type": "markdown",
   "metadata": {},
   "source": [
    "```json\n",
    "{\n",
    "   _id: ObjectId(7df78ad8902c)\n",
    "   title: 'MongoDB Overview', \n",
    "   description: 'MongoDB is no sql database',\n",
    "   tags: ['mongodb', 'database', 'NoSQL'],\n",
    "   likes: 100, \n",
    "   comments: [\t\n",
    "      {\n",
    "         user:'user1',\n",
    "         message: 'My first comment',\n",
    "         dateCreated: new Date(2011,1,20,2,15),\n",
    "         like: 0 \n",
    "      },\n",
    "      {\n",
    "         user:'user2',\n",
    "         message: 'My second comments',\n",
    "         dateCreated: new Date(2011,1,25,7,45),\n",
    "         like: 5\n",
    "      }\n",
    "   ]\n",
    "}\n",
    "```"
   ]
  },
  {
   "cell_type": "markdown",
   "metadata": {},
   "source": [
    "- `_id` is a 12 bytes hexadecimal number which assures the uniqueness of every document.\n",
    "- If not provided, is supplied by mongoDB"
   ]
  },
  {
   "cell_type": "markdown",
   "metadata": {},
   "source": [
    "- `mongod` is the server (daemon)\n",
    "- `mongo` is the client\n",
    "    - provides a command line shell\n",
    "    - standard javascript acceptable as commands"
   ]
  },
  {
   "cell_type": "markdown",
   "metadata": {},
   "source": [
    "### PyMongo"
   ]
  },
  {
   "cell_type": "markdown",
   "metadata": {},
   "source": [
    "- python module to access mongodb database and documents\n",
    "- Provides all CRUD capabilities along with admin tasks as well"
   ]
  },
  {
   "cell_type": "code",
   "execution_count": 2,
   "metadata": {
    "collapsed": false
   },
   "outputs": [
    {
     "name": "stdout",
     "output_type": "stream",
     "text": [
      "{u'_id': ObjectId('56a757b4bb0a5d2a7b29ae54'), u'name': u'Canada'}\n"
     ]
    },
    {
     "name": "stderr",
     "output_type": "stream",
     "text": [
      "/Library/Python/2.7/site-packages/ipykernel/__main__.py:10: DeprecationWarning: insert is deprecated. Use insert_one or insert_many instead.\n"
     ]
    }
   ],
   "source": [
    "# m.py\n",
    "\n",
    "def get_db():\n",
    "    from pymongo import MongoClient\n",
    "    client = MongoClient('localhost:27017')\n",
    "    db = client.myFirstMB\n",
    "    return db\n",
    "\n",
    "def add_country(db):\n",
    "    db.countries.insert({\"name\" : \"Canada\"})\n",
    "    \n",
    "def get_country(db):\n",
    "    return db.countries.find_one()\n",
    "\n",
    "if __name__ == \"__main__\":\n",
    "\n",
    "    db = get_db() \n",
    "    add_country(db)\n",
    "    print get_country(db)\n"
   ]
  },
  {
   "cell_type": "markdown",
   "metadata": {},
   "source": [
    "```\n",
    "$ python m.py\n",
    "/usr/lib/python2.7/dist-packages/pkg_resources.py:1031: UserWarning: /home/k/.python-eggs is writable by group/others and vulnerable to attack when used with get_resource_filename. Consider a more secure location (set with .set_extraction_path or the PYTHON_EGG_CACHE environment variable).\n",
    "  warnings.warn(msg, UserWarning)\n",
    "{u'_id': ObjectId('53c181ce8ce4b12ad763c1dd'), u'name': u'Canada'}\n",
    "```"
   ]
  },
  {
   "cell_type": "code",
   "execution_count": null,
   "metadata": {
    "collapsed": true
   },
   "outputs": [],
   "source": [
    "# mongo1.py\n",
    "\n",
    "from pymongo import MongoClient\n",
    "\n",
    "client = MongoClient('mongodb://localhost:27017/')\n",
    "\n",
    "# data base name : 'test-database-1'\n",
    "mydb = client['test-database-1']\n",
    "\n",
    "import datetime\n",
    "\n",
    "myrecord = {\n",
    "        \"author\": \"Duke\",\n",
    "        \"title\" : \"PyMongo 101\",\n",
    "        \"tags\" : [\"MongoDB\", \"PyMongo\", \"Tutorial\"],\n",
    "        \"date\" : datetime.datetime.utcnow()\n",
    "        }\n",
    "\n",
    "record_id = mydb.mytable.insert(myrecord)\n",
    "\n",
    "print record_id\n",
    "print mydb.collection_names()\n"
   ]
  },
  {
   "cell_type": "markdown",
   "metadata": {},
   "source": [
    "### Inserting multiple documents"
   ]
  },
  {
   "cell_type": "code",
   "execution_count": null,
   "metadata": {
    "collapsed": true
   },
   "outputs": [],
   "source": [
    "# mongo3.py\n",
    "\n",
    "from pymongo import MongoClient\n",
    "\n",
    "client = MongoClient('mongodb://localhost:27017/')\n",
    "mydb = client['test-database']\n",
    "\n",
    "mydb.posts.drop()\n",
    "\n",
    "import datetime\n",
    "post = {\n",
    "        \"author\": \"Duke 5\",\n",
    "        \"title\" : \"PyMongo 101 - 5\",\n",
    "        \"tags\" : [\"MongoDB 5\", \"PyMongo 101 - A5\", \"Tutorial 5\"],\n",
    "        \"date\" : datetime.datetime.utcnow()\n",
    "        }\n",
    "\n",
    "posts = mydb.posts\n",
    "post_id = posts.insert(post)\n",
    "\n",
    "print post_id\n",
    "print mydb.collection_names()\n",
    "\n",
    "new_posts = [{\"author\": \"Duke 6\",\n",
    "              \"title\" : \"PyMongo 101-A6\",\n",
    "              \"tags\" : [\"MongoDB 6\", \"PyMongo 6\", \"Tutorial 6\"],\n",
    "              \"date\" : datetime.datetime(2015, 11, 28, 01, 13)},\n",
    "             {\"author\": \"Adja\",\n",
    "              \"title\": \"MongoDB 101-A7\",\n",
    "              \"note\": \"Schema free MongoDB\",\n",
    "              \"date\": datetime.datetime(2015, 11, 29, 11, 42)}\n",
    "            ]\n",
    "mydb.posts.insert(new_posts)"
   ]
  },
  {
   "cell_type": "markdown",
   "metadata": {},
   "source": [
    "### Querying"
   ]
  },
  {
   "cell_type": "code",
   "execution_count": null,
   "metadata": {
    "collapsed": true
   },
   "outputs": [],
   "source": [
    "for post in mydb.mytable.find():\n",
    "    post\n",
    " \n",
    "{u'date': datetime.datetime(2015, 11, 28, 5, 18, 40, 945000), u'_id': ObjectId('5659393d312f910b5b05c18a'), u'author': u'Duke', u'tags': [u'MongoDB', u'PyMongo', u'Tutorial'], u'title': u'PyMongo 101'}\n",
    "{u'date': datetime.datetime(2015, 11, 28, 6, 11, 6, 496000), u'_id': ObjectId('5659457a312f91162bf20276'), u'author': u'Duke II', u'tags': [u'MongoDB II', u'PyMongo II', u'Tutorial II'], u'title': u'PyMongo II 101'}\n",
    "{u'date': datetime.datetime(2015, 11, 28, 6, 11, 6, 496000), u'_id': ObjectId('5659457a312f91162bf20277'), u'author': u'Duke III', u'tags': [u'MongoDB III', u'PyMongo III', u'Tutorial III'], u'title': u'PyMongo III 101'}\n",
    "{u'date': datetime.datetime(2015, 11, 28, 7, 2, 37, 317000), u'_id': ObjectId('56595481312f9119e4bace31'), u'author': u'Duke 4', u'tags': [u'MongoDB 4', u'PyMongo 4', u'Tutorial 4'], u'title': u'PyMongo 4 101'}\n"
   ]
  },
  {
   "cell_type": "code",
   "execution_count": null,
   "metadata": {
    "collapsed": true
   },
   "outputs": [],
   "source": [
    "for post in mydb.mytable.find({\"author\": \"Adja\"}):\n",
    "    post\n",
    " \n",
    "{u'note': u'Schema free MongoDB', u'date': datetime.datetime(2015, 11, 29, 11, 42), u'_id': ObjectId('56595cf0312f912bc242f79e'), u'author': u'Adja', u'title': u'MongoDB 101-A7'}\n"
   ]
  },
  {
   "cell_type": "code",
   "execution_count": null,
   "metadata": {
    "collapsed": true
   },
   "outputs": [],
   "source": [
    ">>> mydb.mytable.count()\n",
    "7\n",
    "\n",
    ">>> mydb.mytable.find({\"author\": \"Adja\"}).count()\n",
    "1"
   ]
  },
  {
   "cell_type": "markdown",
   "metadata": {},
   "source": [
    "#### Range queries"
   ]
  },
  {
   "cell_type": "code",
   "execution_count": null,
   "metadata": {
    "collapsed": true
   },
   "outputs": [],
   "source": [
    ">>> import datetime\n",
    ">>> for post in mydb.mytable.find({\"date\": {\"$lt\": datetime.datetime(2015, 12, 1)}}).sort(\"author\"):\n",
    "    post\n",
    " \n",
    "{u'note': u'Schema free MongoDB', u'date': datetime.datetime(2015, 11, 29, 11, 42), u'_id': ObjectId('56595cf0312f912bc242f79e'), u'author': u'Adja', u'title': u'MongoDB 101-A7'}\n",
    "{u'date': datetime.datetime(2015, 11, 28, 5, 18, 40, 945000), u'_id': ObjectId('5659393d312f910b5b05c18a'), u'author': u'Duke', u'tags': [u'MongoDB', u'PyMongo', u'Tutorial'], u'title': u'PyMongo 101'}\n"
   ]
  },
  {
   "cell_type": "markdown",
   "metadata": {},
   "source": [
    "### Indexing"
   ]
  },
  {
   "cell_type": "markdown",
   "metadata": {},
   "source": [
    "- Indexes needed for speeding up queries\n",
    "- One of more fields may be specified as index for a document collection"
   ]
  },
  {
   "cell_type": "code",
   "execution_count": null,
   "metadata": {
    "collapsed": true
   },
   "outputs": [],
   "source": [
    ">>> result = db.profiles.create_index([('user_id', pymongo.ASCENDING)],\n",
    "...                                   unique=True)\n",
    ">>> list(db.profiles.index_information())\n",
    "[u'user_id_1', u'_id_']"
   ]
  },
  {
   "cell_type": "code",
   "execution_count": null,
   "metadata": {
    "collapsed": true
   },
   "outputs": [],
   "source": [
    ">>> user_profiles = [\n",
    "...     {'user_id': 211, 'name': 'Luke'},\n",
    "...     {'user_id': 212, 'name': 'Ziltoid'}]\n",
    ">>> result = db.profiles.insert_many(user_profiles)"
   ]
  },
  {
   "cell_type": "markdown",
   "metadata": {},
   "source": [
    "Indexes prevent us from inserting a document whose `user_id` is already present"
   ]
  },
  {
   "cell_type": "code",
   "execution_count": null,
   "metadata": {
    "collapsed": true
   },
   "outputs": [],
   "source": [
    ">>> new_profile = {'user_id': 213, 'name': 'Drew'}\n",
    ">>> duplicate_profile = {'user_id': 212, 'name': 'Tommy'}\n",
    ">>> result = db.profiles.insert_one(new_profile)  # This is fine.\n",
    ">>> result = db.profiles.insert_one(duplicate_profile)\n",
    "Traceback (most recent call last):\n",
    "pymongo.errors.DuplicateKeyError: E11000 duplicate key error index: test_database.profiles.$user_id_1 dup key: { : 212 }"
   ]
  },
  {
   "cell_type": "code",
   "execution_count": null,
   "metadata": {
    "collapsed": true
   },
   "outputs": [],
   "source": []
  },
  {
   "cell_type": "code",
   "execution_count": null,
   "metadata": {
    "collapsed": true
   },
   "outputs": [],
   "source": []
  }
 ],
 "metadata": {
  "kernelspec": {
   "display_name": "Python 2",
   "language": "python",
   "name": "python2"
  },
  "language_info": {
   "codemirror_mode": {
    "name": "ipython",
    "version": 2
   },
   "file_extension": ".py",
   "mimetype": "text/x-python",
   "name": "python",
   "nbconvert_exporter": "python",
   "pygments_lexer": "ipython2",
   "version": "2.7.12"
  }
 },
 "nbformat": 4,
 "nbformat_minor": 0
}
