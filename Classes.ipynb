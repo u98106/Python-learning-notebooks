{
 "cells": [
  {
   "cell_type": "markdown",
   "metadata": {},
   "source": [
    "## ipython, notebook, jupyter how-to\n",
    "\n",
    "### Installing\n",
    "\n",
    "* pip install ipython\n",
    "\n",
    "* pip install ipython[notebook]\n",
    "\n",
    "### Running\n",
    "\n",
    "* $>  ipython\n",
    "\n",
    "* $>  ipython notebook\n",
    "\n",
    "* $>  jupyter notebook"
   ]
  },
  {
   "cell_type": "markdown",
   "metadata": {},
   "source": [
    "# Classes, OO"
   ]
  },
  {
   "cell_type": "code",
   "execution_count": 5,
   "metadata": {
    "collapsed": true
   },
   "outputs": [],
   "source": [
    "class MyClass(object):\n",
    "    def __init__(self, num):\n",
    "        self.num = num\n",
    "\n",
    "    def show(self):\n",
    "        print self.num\n",
    "\n",
    "        \n",
    "def globFun():\n",
    "    pass"
   ]
  },
  {
   "cell_type": "code",
   "execution_count": 6,
   "metadata": {
    "collapsed": true
   },
   "outputs": [],
   "source": [
    "myobj = MyClass(10)"
   ]
  },
  {
   "cell_type": "code",
   "execution_count": 8,
   "metadata": {
    "collapsed": false
   },
   "outputs": [
    {
     "name": "stdout",
     "output_type": "stream",
     "text": [
      "10\n"
     ]
    }
   ],
   "source": [
    "myobj.show()"
   ]
  },
  {
   "cell_type": "code",
   "execution_count": 21,
   "metadata": {
    "collapsed": true
   },
   "outputs": [],
   "source": [
    "class Greet(object):\n",
    "    \n",
    "    count = 0\n",
    "    \n",
    "    @staticmethod\n",
    "    def showCount():\n",
    "        print Greet.count\n",
    "    \n",
    "    def __init__(self, name, greeting='Hello'):\n",
    "        self.name = name\n",
    "        self.greeting = greeting\n",
    "        self.greeted = False\n",
    "        Greet.count += 1\n",
    "        \n",
    "    def greet(self):\n",
    "        if not self.greeted:\n",
    "            print self.greeting + ' ' + self.name\n",
    "            self.greeted = True\n",
    "        \n",
    "\n"
   ]
  },
  {
   "cell_type": "code",
   "execution_count": 22,
   "metadata": {
    "collapsed": true
   },
   "outputs": [],
   "source": [
    "greetme = Greet('ash')"
   ]
  },
  {
   "cell_type": "code",
   "execution_count": 23,
   "metadata": {
    "collapsed": false
   },
   "outputs": [
    {
     "name": "stdout",
     "output_type": "stream",
     "text": [
      "Hello ash\n"
     ]
    },
    {
     "data": {
      "text/plain": [
       "'ash'"
      ]
     },
     "execution_count": 23,
     "metadata": {},
     "output_type": "execute_result"
    }
   ],
   "source": [
    "greetme.greet()\n",
    "greetme.name"
   ]
  },
  {
   "cell_type": "code",
   "execution_count": 24,
   "metadata": {
    "collapsed": false
   },
   "outputs": [
    {
     "name": "stdout",
     "output_type": "stream",
     "text": [
      "Hello sandeep\n"
     ]
    }
   ],
   "source": [
    "greetsandeep = Greet('sandeep')\n",
    "greetsandeep.greet()"
   ]
  },
  {
   "cell_type": "code",
   "execution_count": 26,
   "metadata": {
    "collapsed": false
   },
   "outputs": [
    {
     "name": "stdout",
     "output_type": "stream",
     "text": [
      "2\n"
     ]
    }
   ],
   "source": [
    "Greet.showCount()"
   ]
  },
  {
   "cell_type": "markdown",
   "metadata": {},
   "source": [
    "### Inheritance, Polymorphism"
   ]
  },
  {
   "cell_type": "code",
   "execution_count": 27,
   "metadata": {
    "collapsed": true
   },
   "outputs": [],
   "source": [
    "class Socket(object):\n",
    "    def __init__(self, ip, type_='udp'):\n",
    "        self.ip = ip\n",
    "        self.type = type_\n",
    "        \n",
    "    def connect(self):\n",
    "        way = proto()\n",
    "        '''connect using way'''\n",
    "        pass\n",
    "    \n",
    "    def proto(self):\n",
    "        pass\n",
    "\n",
    "        "
   ]
  },
  {
   "cell_type": "code",
   "execution_count": 33,
   "metadata": {
    "collapsed": true
   },
   "outputs": [],
   "source": [
    "class HTTPSock(Socket):\n",
    "    def __init__(self, ip, type_='udp', secure=False):\n",
    "        super(HTTPSock, self).__init__(ip, type)\n",
    "        self.secure = secure\n",
    "        if self.secure:\n",
    "            pass\n",
    "        \n",
    "    def proto(self):\n",
    "        if self.secure:\n",
    "            pass\n",
    "        return 'HTTP way to connect'\n",
    "    \n"
   ]
  },
  {
   "cell_type": "code",
   "execution_count": 34,
   "metadata": {
    "collapsed": true
   },
   "outputs": [],
   "source": [
    "class FTPSock(Socket):\n",
    "    def __init__(self, ip, type_='udp', secure=False):\n",
    "        super(FTPSock, self).__init__(ip, type)\n",
    "        self.secure = secure\n",
    "        if self.secure:\n",
    "            pass\n",
    "        \n",
    "    def proto(self):\n",
    "        if self.secure:\n",
    "            pass\n",
    "        return 'FTP way to connect'\n",
    "    \n"
   ]
  },
  {
   "cell_type": "code",
   "execution_count": 35,
   "metadata": {
    "collapsed": false
   },
   "outputs": [],
   "source": [
    "hsock = HTTPSock('192.168.1.100', type_='tcp', secure=True)"
   ]
  },
  {
   "cell_type": "code",
   "execution_count": 36,
   "metadata": {
    "collapsed": false
   },
   "outputs": [],
   "source": [
    "fsock = FTPSock('192.168.1.100')"
   ]
  },
  {
   "cell_type": "code",
   "execution_count": 37,
   "metadata": {
    "collapsed": true
   },
   "outputs": [],
   "source": [
    "connections = [hsock, fsock]\n",
    "\n",
    "for conn in connections:\n",
    "    conn.connect()"
   ]
  },
  {
   "cell_type": "code",
   "execution_count": null,
   "metadata": {
    "collapsed": true
   },
   "outputs": [],
   "source": []
  },
  {
   "cell_type": "code",
   "execution_count": null,
   "metadata": {
    "collapsed": true
   },
   "outputs": [],
   "source": []
  },
  {
   "cell_type": "code",
   "execution_count": null,
   "metadata": {
    "collapsed": true
   },
   "outputs": [],
   "source": []
  },
  {
   "cell_type": "code",
   "execution_count": 48,
   "metadata": {
    "collapsed": false
   },
   "outputs": [],
   "source": [
    "class Complex(object):\n",
    "    def __init__(self, real, imag):\n",
    "        self.real = real\n",
    "        self.imag = imag\n",
    "        \n",
    "    def __add__(self, other):\n",
    "        return Complex(self.real+other.real, self.imag+other.imag)\n",
    "    \n",
    "    def __sub__(self, other):\n",
    "        return Complex(self.real-other.real, self.imag-other.imag)\n",
    "\n",
    "    def __str__(self):\n",
    "        return '%d, i%d' % (self.real, self.imag)\n",
    "    \n",
    "    def __repr__(self):\n",
    "        return '%d, i%d' % (self.real, self.imag)"
   ]
  },
  {
   "cell_type": "code",
   "execution_count": 49,
   "metadata": {
    "collapsed": true
   },
   "outputs": [],
   "source": [
    "a = Complex(1, 2)\n",
    "b = Complex(3, 4)\n",
    "\n",
    "c = a+b        # a.__add__(b)\n",
    "d = a-b"
   ]
  },
  {
   "cell_type": "code",
   "execution_count": 47,
   "metadata": {
    "collapsed": false
   },
   "outputs": [
    {
     "name": "stdout",
     "output_type": "stream",
     "text": [
      "4, i6\n"
     ]
    }
   ],
   "source": [
    "print c"
   ]
  },
  {
   "cell_type": "code",
   "execution_count": 50,
   "metadata": {
    "collapsed": false
   },
   "outputs": [
    {
     "data": {
      "text/plain": [
       "4, i6"
      ]
     },
     "execution_count": 50,
     "metadata": {},
     "output_type": "execute_result"
    }
   ],
   "source": [
    "c"
   ]
  },
  {
   "cell_type": "code",
   "execution_count": null,
   "metadata": {
    "collapsed": true
   },
   "outputs": [],
   "source": []
  }
 ],
 "metadata": {
  "kernelspec": {
   "display_name": "Python 2",
   "language": "python",
   "name": "python2"
  },
  "language_info": {
   "codemirror_mode": {
    "name": "ipython",
    "version": 2
   },
   "file_extension": ".py",
   "mimetype": "text/x-python",
   "name": "python",
   "nbconvert_exporter": "python",
   "pygments_lexer": "ipython2",
   "version": "2.7.12"
  }
 },
 "nbformat": 4,
 "nbformat_minor": 0
}
