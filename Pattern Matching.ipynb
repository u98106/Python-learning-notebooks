{
 "cells": [
  {
   "cell_type": "markdown",
   "metadata": {},
   "source": [
    "glob style pattern matching\n",
    "> ls *.t??\n",
    "abc.txt ab.tcl \n",
    "1.doc 1.txtx"
   ]
  },
  {
   "cell_type": "markdown",
   "metadata": {},
   "source": [
    "Repititions\n",
    "*\n",
    "+\n",
    "{n,m}\n",
    "?\n"
   ]
  },
  {
   "cell_type": "markdown",
   "metadata": {},
   "source": [
    "Char classes\n",
    "[a-zA-Z0-9]\n",
    "[0-9a-fA-F-]\n",
    "[^a-z]\n",
    "[^^]\n",
    "."
   ]
  },
  {
   "cell_type": "markdown",
   "metadata": {},
   "source": [
    "Anchors\n",
    "^ beginning of\n",
    "$ end of"
   ]
  },
  {
   "cell_type": "markdown",
   "metadata": {},
   "source": [
    "DEBUG: obj created\n",
    "\n",
    "grep ^DEBUG:$ file.log"
   ]
  },
  {
   "cell_type": "markdown",
   "metadata": {},
   "source": [
    "#### Valid hex numbers"
   ]
  },
  {
   "cell_type": "markdown",
   "metadata": {},
   "source": [
    "0x[0-9a-fA-F]+\n",
    "\n",
    "0xabcd 0xABCD 0x1234 0x0 0xdeadbeef\n",
    "0xdefg 123 hello 0x"
   ]
  },
  {
   "cell_type": "markdown",
   "metadata": {},
   "source": [
    "#### Valid email id's"
   ]
  },
  {
   "cell_type": "markdown",
   "metadata": {},
   "source": [
    "user@domain.ext\n",
    "\n",
    "a123\n",
    "123a\n",
    "\n",
    "firstchar = [a-zA-Z_.-]\n",
    "rest = [a-zA-Z0-9_.-]\n",
    "user = [a-zA-Z_.-][a-zA-Z0-9_.-]*\n",
    "\n",
    "domain = [a-zA-Z0-9][a-zA-Z0-9_-]*\n",
    "ext = [a-zA-Z]{2,3}\n",
    "\n",
    "user+'@'+domain+r'\\.'+ext\n",
    "\n"
   ]
  },
  {
   "cell_type": "code",
   "execution_count": 1,
   "metadata": {
    "collapsed": true
   },
   "outputs": [],
   "source": [
    "import re"
   ]
  },
  {
   "cell_type": "code",
   "execution_count": 17,
   "metadata": {
    "collapsed": false
   },
   "outputs": [
    {
     "data": {
      "text/plain": [
       "['a@b.com']"
      ]
     },
     "execution_count": 17,
     "metadata": {},
     "output_type": "execute_result"
    }
   ],
   "source": [
    "firstchar = r'[a-zA-Z_.-]'\n",
    "rest = r'[a-zA-Z0-9_.-]'\n",
    "user = r'[a-zA-Z_.-][a-zA-Z0-9_.-]*'\n",
    "\n",
    "domain = r'[a-zA-Z0-9][a-zA-Z0-9_-]*'\n",
    "ext = r'[a-zA-Z]{2,3}'\n",
    "\n",
    "mailre = r'^'+user+'@'+domain+r'\\.'+ext+r'$'\n",
    "\n",
    "#re.findall(mailre, 'a bad mail id 111@123.com. a good mail id : abc@123.com ')\n",
    "re.findall(mailre, 'a@b.com')\n",
    "\n"
   ]
  },
  {
   "cell_type": "code",
   "execution_count": 15,
   "metadata": {
    "collapsed": false
   },
   "outputs": [
    {
     "name": "stdout",
     "output_type": "stream",
     "text": [
      "<_sre.SRE_Match object at 0x102309cc8>\n"
     ]
    }
   ],
   "source": [
    "m = re.match(mailre, 'a@b.com a bad mail id 111@123.com. a good mail id : abc@123.com ')\n",
    "#m = re.search(mailre, '')\n",
    "print m\n"
   ]
  },
  {
   "cell_type": "code",
   "execution_count": null,
   "metadata": {
    "collapsed": true
   },
   "outputs": [],
   "source": [
    "if re.search(pat, str):\n",
    "    print 'Matched'"
   ]
  }
 ],
 "metadata": {
  "kernelspec": {
   "display_name": "Python 2",
   "language": "python",
   "name": "python2"
  },
  "language_info": {
   "codemirror_mode": {
    "name": "ipython",
    "version": 2
   },
   "file_extension": ".py",
   "mimetype": "text/x-python",
   "name": "python",
   "nbconvert_exporter": "python",
   "pygments_lexer": "ipython2",
   "version": "2.7.10"
  }
 },
 "nbformat": 4,
 "nbformat_minor": 0
}
