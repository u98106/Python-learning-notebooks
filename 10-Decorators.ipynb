{
 "cells": [
  {
   "cell_type": "markdown",
   "metadata": {},
   "source": [
    "# Decorators"
   ]
  },
  {
   "cell_type": "markdown",
   "metadata": {},
   "source": []
  },
  {
   "cell_type": "markdown",
   "metadata": {},
   "source": [
    "### The Concept"
   ]
  },
  {
   "cell_type": "markdown",
   "metadata": {},
   "source": [
    "Adding functionality to a function\n",
    "\n",
    "_Without_ modifying the function"
   ]
  },
  {
   "cell_type": "markdown",
   "metadata": {},
   "source": [
    ">func(func) -> func"
   ]
  },
  {
   "cell_type": "markdown",
   "metadata": {},
   "source": [
    "Function that takes a function (as arg) and returns another function (usually with functionality added)"
   ]
  },
  {
   "cell_type": "markdown",
   "metadata": {},
   "source": []
  },
  {
   "cell_type": "markdown",
   "metadata": {},
   "source": [
    "### Function arg"
   ]
  },
  {
   "cell_type": "code",
   "execution_count": null,
   "metadata": {
    "collapsed": false
   },
   "outputs": [],
   "source": [
    "def add(x,y):\n",
    "    return x+y\n",
    "\n",
    "def sub(x,y):\n",
    "    return x-y\n",
    "\n",
    "def apply(f,x,y):\n",
    "    return f(x,y)"
   ]
  },
  {
   "cell_type": "code",
   "execution_count": null,
   "metadata": {
    "collapsed": false
   },
   "outputs": [],
   "source": [
    "apply(add,2,3)"
   ]
  },
  {
   "cell_type": "code",
   "execution_count": null,
   "metadata": {
    "collapsed": false
   },
   "outputs": [],
   "source": [
    "apply(sub,5,2)"
   ]
  },
  {
   "cell_type": "markdown",
   "metadata": {},
   "source": [
    "Other common functions that take functions?\n",
    "* map\n",
    "* reduce\n",
    "* filter"
   ]
  },
  {
   "cell_type": "code",
   "execution_count": null,
   "metadata": {
    "collapsed": true
   },
   "outputs": [],
   "source": []
  },
  {
   "cell_type": "markdown",
   "metadata": {},
   "source": [
    "### Function return\n",
    "\n",
    "or, function in a function"
   ]
  },
  {
   "cell_type": "code",
   "execution_count": null,
   "metadata": {
    "collapsed": false
   },
   "outputs": [],
   "source": [
    "def outer():\n",
    "    x = 1\n",
    "    def inner():\n",
    "        print x        \n",
    "    return inner\n",
    "\n",
    "foo = outer()\n",
    "foo()"
   ]
  },
  {
   "cell_type": "code",
   "execution_count": null,
   "metadata": {
    "collapsed": true
   },
   "outputs": [],
   "source": [
    "\n",
    "def outer(x):\n",
    "    def inner():\n",
    "        print x\n",
    "    return inner\n",
    "\n",
    "print1 = outer(1)\n",
    "print2 = outer(2)"
   ]
  },
  {
   "cell_type": "code",
   "execution_count": null,
   "metadata": {
    "collapsed": false
   },
   "outputs": [],
   "source": [
    "print1()"
   ]
  },
  {
   "cell_type": "code",
   "execution_count": null,
   "metadata": {
    "collapsed": false
   },
   "outputs": [],
   "source": [
    "print2()"
   ]
  },
  {
   "cell_type": "code",
   "execution_count": null,
   "metadata": {
    "collapsed": true
   },
   "outputs": [],
   "source": []
  },
  {
   "cell_type": "code",
   "execution_count": 4,
   "metadata": {
    "collapsed": false
   },
   "outputs": [
    {
     "name": "stdout",
     "output_type": "stream",
     "text": [
      "Before\n",
      "hello\n",
      "After\n"
     ]
    }
   ],
   "source": [
    "def outer(func):\n",
    "    def inner():\n",
    "        print \"Before\"\n",
    "        func()\n",
    "        print \"After\"\n",
    "    return inner\n",
    "\n",
    "--------------\n",
    "\n",
    "@outer\n",
    "def foo():\n",
    "    print 'hello'\n",
    "\n",
    "#foo = outer(foo)\n",
    "foo()"
   ]
  },
  {
   "cell_type": "markdown",
   "metadata": {},
   "source": [
    "### Decorator!"
   ]
  },
  {
   "cell_type": "code",
   "execution_count": 53,
   "metadata": {
    "collapsed": false
   },
   "outputs": [
    {
     "data": {
      "text/plain": [
       "'<i>Hello</i>'"
      ]
     },
     "execution_count": 53,
     "metadata": {},
     "output_type": "execute_result"
    }
   ],
   "source": [
    "def italics(fn):\n",
    "    def fn2():\n",
    "        return '<i>' + fn() + '</i>'\n",
    "    return fn2\n",
    "\n",
    "@bold\n",
    "@italics\n",
    "def msg():\n",
    "    return \"Hello\"\n",
    "\n",
    "#msg = italics(msg)\n",
    "\n",
    "msg()"
   ]
  },
  {
   "cell_type": "code",
   "execution_count": null,
   "metadata": {
    "collapsed": false
   },
   "outputs": [],
   "source": [
    "def bold(fn):\n",
    "    def fn2():\n",
    "        return '<b>' + fn() + '</b>'\n",
    "    return fn2\n",
    "\n",
    "def tag(tagtype):\n",
    "    \n",
    "    return None\n",
    "\n",
    "#@italics\n",
    "whichtag='b'\n",
    "@tag(whichtag)\n",
    "def msg():\n",
    "    return \"Hello\"\n",
    "\n",
    "msg()\n",
    "whichtag='i'\n",
    "msg()\n",
    "\n",
    "#msg = bold(italics(msg))\n",
    "\n",
    "msg()"
   ]
  },
  {
   "cell_type": "code",
   "execution_count": null,
   "metadata": {
    "collapsed": true
   },
   "outputs": [],
   "source": []
  },
  {
   "cell_type": "code",
   "execution_count": null,
   "metadata": {
    "collapsed": true
   },
   "outputs": [],
   "source": []
  },
  {
   "cell_type": "code",
   "execution_count": null,
   "metadata": {
    "collapsed": true
   },
   "outputs": [],
   "source": []
  },
  {
   "cell_type": "code",
   "execution_count": null,
   "metadata": {
    "collapsed": true
   },
   "outputs": [],
   "source": []
  },
  {
   "cell_type": "code",
   "execution_count": null,
   "metadata": {
    "collapsed": false
   },
   "outputs": [],
   "source": [
    "def debug(fn):\n",
    "    def fn2(*args, **kwargs):\n",
    "        print 'called with ', args, kwargs\n",
    "        return fn(*args, **kwargs)\n",
    "    return fn2\n",
    "\n",
    "class A:\n",
    "    def a():\n",
    "        pass\n",
    "    def b():\n",
    "        pass"
   ]
  },
  {
   "cell_type": "markdown",
   "metadata": {},
   "source": [
    "### `*args` and `**kwargs`"
   ]
  },
  {
   "cell_type": "code",
   "execution_count": null,
   "metadata": {
    "collapsed": false
   },
   "outputs": [],
   "source": [
    "def fn(x,y,*args):\n",
    "    print x,y,args\n",
    "    \n",
    "fn(1,2)\n"
   ]
  },
  {
   "cell_type": "code",
   "execution_count": null,
   "metadata": {
    "collapsed": false
   },
   "outputs": [],
   "source": [
    "fn(1,2,3,4,5)"
   ]
  },
  {
   "cell_type": "code",
   "execution_count": null,
   "metadata": {
    "collapsed": true
   },
   "outputs": [],
   "source": [
    "def f():\n",
    "    print \"Hello\"\n",
    "    \n",
    "def f(x):\n",
    "    print \"Hello\"+x"
   ]
  },
  {
   "cell_type": "code",
   "execution_count": null,
   "metadata": {
    "collapsed": false
   },
   "outputs": [],
   "source": [
    "f()"
   ]
  },
  {
   "cell_type": "code",
   "execution_count": null,
   "metadata": {
    "collapsed": false
   },
   "outputs": [],
   "source": [
    "def fn2(**kwargs):\n",
    "    print kwargs\n",
    "    \n",
    "fn2(x=1,y=2)"
   ]
  },
  {
   "cell_type": "code",
   "execution_count": null,
   "metadata": {
    "collapsed": true
   },
   "outputs": [],
   "source": []
  },
  {
   "cell_type": "code",
   "execution_count": 54,
   "metadata": {
    "collapsed": true
   },
   "outputs": [],
   "source": [
    "def debug(fn):\n",
    "    def inner(*args, **kwargs):\n",
    "        print \"Args were \" + str(args) + str(kwargs)\n",
    "        return fn(*args, **kwargs)\n",
    "    return inner"
   ]
  },
  {
   "cell_type": "code",
   "execution_count": 57,
   "metadata": {
    "collapsed": false
   },
   "outputs": [
    {
     "name": "stdout",
     "output_type": "stream",
     "text": [
      "Args were ('MrX',){}\n"
     ]
    },
    {
     "data": {
      "text/plain": [
       "'HelloMrX'"
      ]
     },
     "execution_count": 57,
     "metadata": {},
     "output_type": "execute_result"
    }
   ],
   "source": [
    "@debug\n",
    "def msg(x):\n",
    "    return \"Hello\"+x\n",
    "\n",
    "@debug\n",
    "def msg2(x,y):\n",
    "    return x,':',y\n",
    "\n",
    "msg('MrX')"
   ]
  },
  {
   "cell_type": "code",
   "execution_count": 58,
   "metadata": {
    "collapsed": false
   },
   "outputs": [
    {
     "name": "stdout",
     "output_type": "stream",
     "text": [
      "Args were ('hi', 5){}\n"
     ]
    },
    {
     "data": {
      "text/plain": [
       "('hi', ':', 5)"
      ]
     },
     "execution_count": 58,
     "metadata": {},
     "output_type": "execute_result"
    }
   ],
   "source": [
    "msg2(\"hi\",5)"
   ]
  },
  {
   "cell_type": "code",
   "execution_count": null,
   "metadata": {
    "collapsed": true
   },
   "outputs": [],
   "source": []
  },
  {
   "cell_type": "code",
   "execution_count": null,
   "metadata": {
    "collapsed": true
   },
   "outputs": [],
   "source": []
  },
  {
   "cell_type": "markdown",
   "metadata": {},
   "source": [
    "### Class Decorators"
   ]
  },
  {
   "cell_type": "code",
   "execution_count": null,
   "metadata": {
    "collapsed": true
   },
   "outputs": [],
   "source": [
    "class Foo(object):\n",
    "    def fn1(*args):\n",
    "        pass\n",
    "    def fn2(*args):\n",
    "        pass"
   ]
  },
  {
   "cell_type": "code",
   "execution_count": null,
   "metadata": {
    "collapsed": false
   },
   "outputs": [],
   "source": [
    "a = Foo()\n",
    "a.fn1(1,2)\n",
    "a.fn2(3,4)"
   ]
  },
  {
   "cell_type": "code",
   "execution_count": null,
   "metadata": {
    "collapsed": false
   },
   "outputs": [],
   "source": [
    "Foo.__name__"
   ]
  },
  {
   "cell_type": "code",
   "execution_count": null,
   "metadata": {
    "collapsed": false
   },
   "outputs": [],
   "source": [
    "from inspect import isfunction\n",
    "\n",
    "def debugclass(klass):\n",
    "    name  = klass.__name__\n",
    "    bases = klass.__bases__\n",
    "    kdict = {}\n",
    "    for name,attrib in klass.__dict__.items():\n",
    "        kdict[name] = debug(attrib) if isfunction(attrib) else attrib\n",
    "    newklass = type(name, bases, kdict)\n",
    "    return newklass\n",
    "\n"
   ]
  },
  {
   "cell_type": "code",
   "execution_count": null,
   "metadata": {
    "collapsed": false
   },
   "outputs": [],
   "source": [
    "#@debugclass\n",
    "class Foo(object):\n",
    "    def fn1(*args):\n",
    "        pass\n",
    "    def fn2(*args):\n",
    "        pass"
   ]
  },
  {
   "cell_type": "code",
   "execution_count": null,
   "metadata": {
    "collapsed": false
   },
   "outputs": [],
   "source": [
    "a = Foo()\n",
    "a.fn1(1,2)\n",
    "a.fn2(3,4)"
   ]
  },
  {
   "cell_type": "code",
   "execution_count": null,
   "metadata": {
    "collapsed": true
   },
   "outputs": [],
   "source": [
    "registry = { }\n",
    "\n",
    "def register(cls):\n",
    "    registry[cls.__clsid__] = cls\n",
    "    return cls"
   ]
  },
  {
   "cell_type": "code",
   "execution_count": null,
   "metadata": {
    "collapsed": true
   },
   "outputs": [],
   "source": []
  },
  {
   "cell_type": "code",
   "execution_count": null,
   "metadata": {
    "collapsed": true
   },
   "outputs": [],
   "source": [
    "@register\n",
    "class Foo(object):\n",
    "    __clsid__ = \"123-456\" \n",
    "    def bar(self):\n",
    "        pass\n"
   ]
  },
  {
   "cell_type": "code",
   "execution_count": null,
   "metadata": {
    "collapsed": true
   },
   "outputs": [],
   "source": [
    "f = Foo()"
   ]
  },
  {
   "cell_type": "code",
   "execution_count": null,
   "metadata": {
    "collapsed": false
   },
   "outputs": [],
   "source": [
    "registry"
   ]
  },
  {
   "cell_type": "code",
   "execution_count": null,
   "metadata": {
    "collapsed": false
   },
   "outputs": [],
   "source": [
    "class Foo(object):\n",
    "    __clsid__ = \"123-456\" \n",
    "    def bar(self):\n",
    "        pass\n",
    "\n",
    "register(Foo)"
   ]
  },
  {
   "cell_type": "markdown",
   "metadata": {},
   "source": [
    "Both are exactly the same\n",
    "\n",
    "Decorator is just syntactic sugar"
   ]
  },
  {
   "cell_type": "code",
   "execution_count": null,
   "metadata": {
    "collapsed": true
   },
   "outputs": [],
   "source": []
  },
  {
   "cell_type": "markdown",
   "metadata": {},
   "source": [
    "#### Singletons"
   ]
  },
  {
   "cell_type": "code",
   "execution_count": 64,
   "metadata": {
    "collapsed": true
   },
   "outputs": [],
   "source": [
    "def singleton(cls):\n",
    "    instances = {}\n",
    "\n",
    "    def get_instance():\n",
    "        if cls not in instances:\n",
    "            instances[cls] = cls()\n",
    "        \n",
    "        print instances\n",
    "        return instances[cls]\n",
    "        \n",
    "    return get_instance"
   ]
  },
  {
   "cell_type": "code",
   "execution_count": 65,
   "metadata": {
    "collapsed": false
   },
   "outputs": [
    {
     "name": "stdout",
     "output_type": "stream",
     "text": [
      "{<class '__main__.Foo'>: <__main__.Foo object at 0x10ea4ff90>}\n",
      "{<class '__main__.Foo'>: <__main__.Foo object at 0x10ea4ff90>}\n"
     ]
    },
    {
     "data": {
      "text/plain": [
       "(4540661648, 4540661648)"
      ]
     },
     "execution_count": 65,
     "metadata": {},
     "output_type": "execute_result"
    }
   ],
   "source": [
    "@singleton\n",
    "class Foo(object):\n",
    "    pass\n",
    "\n",
    "@singleton\n",
    "class Bar(object):\n",
    "    pass\n",
    "\n",
    "x=Foo()\n",
    "y=Foo()\n",
    "#id(x), id(y)\n",
    "\n",
    "x = Bar()\n",
    "y = Bar()\n",
    "#id(x), id(y)"
   ]
  },
  {
   "cell_type": "code",
   "execution_count": 66,
   "metadata": {
    "collapsed": false
   },
   "outputs": [
    {
     "name": "stdout",
     "output_type": "stream",
     "text": [
      "{<class '__main__.Bar'>: <__main__.Bar object at 0x10ea7ce10>}\n",
      "{<class '__main__.Bar'>: <__main__.Bar object at 0x10ea7ce10>}\n"
     ]
    },
    {
     "data": {
      "text/plain": [
       "(4540845584, 4540845584)"
      ]
     },
     "execution_count": 66,
     "metadata": {},
     "output_type": "execute_result"
    }
   ],
   "source": []
  },
  {
   "cell_type": "code",
   "execution_count": null,
   "metadata": {
    "collapsed": true
   },
   "outputs": [],
   "source": []
  },
  {
   "cell_type": "markdown",
   "metadata": {},
   "source": [
    "#### Avoid!"
   ]
  },
  {
   "cell_type": "code",
   "execution_count": null,
   "metadata": {
    "collapsed": true
   },
   "outputs": [],
   "source": [
    "def modify(cls):\n",
    "    class newclass(cls):\n",
    "        def newmeth(): print \"hello\"\n",
    "    return newclass"
   ]
  },
  {
   "cell_type": "code",
   "execution_count": null,
   "metadata": {
    "collapsed": true
   },
   "outputs": [],
   "source": []
  },
  {
   "cell_type": "markdown",
   "metadata": {},
   "source": [
    "### Decorators taking arguments"
   ]
  },
  {
   "cell_type": "code",
   "execution_count": null,
   "metadata": {
    "collapsed": true
   },
   "outputs": [],
   "source": [
    "@decorator\n",
    "def foo(*args, **kwargs):\n",
    "    pass\n",
    "\n",
    "foo = decorator(foo)"
   ]
  },
  {
   "cell_type": "code",
   "execution_count": null,
   "metadata": {
    "collapsed": true
   },
   "outputs": [],
   "source": [
    "@decorator_with_args(arg)\n",
    "def foo(*args, **kwargs):\n",
    "    pass\n",
    "\n",
    "foo = decorator_with_args(arg)(foo)"
   ]
  },
  {
   "cell_type": "code",
   "execution_count": null,
   "metadata": {
    "collapsed": true
   },
   "outputs": [],
   "source": [
    "def decorator(argument):\n",
    "    def real_decorator(function):\n",
    "        def wrapper(*args, **kwargs):\n",
    "            funny_stuff()\n",
    "            something_with_argument(argument)\n",
    "            function(*args, **kwargs)\n",
    "            more_funny_stuff()\n",
    "        return wrapper\n",
    "     return real_decorator\n",
    "    \n",
    "@decorator(1)\n",
    "def f(*args):\n",
    "    pass"
   ]
  },
  {
   "cell_type": "code",
   "execution_count": null,
   "metadata": {
    "collapsed": true
   },
   "outputs": [],
   "source": [
    "from functools import partial\n",
    "\n",
    "def _pseudo_decor(fun, argument):\n",
    "    def ret_fun(*args, **kwargs):\n",
    "        #do stuff here, for eg.\n",
    "        print \"decorator arg is %s\" % str(argument)\n",
    "        return fun(*args, **kwargs)\n",
    "    return ret_fun\n",
    "\n",
    "real_decorator = partial(_pseudo_decor, argument=arg)\n",
    "\n",
    "@real_decorator\n",
    "def foo(*args, **kwargs):\n",
    "    pass"
   ]
  },
  {
   "cell_type": "code",
   "execution_count": null,
   "metadata": {
    "collapsed": true
   },
   "outputs": [],
   "source": []
  },
  {
   "cell_type": "code",
   "execution_count": null,
   "metadata": {
    "collapsed": true
   },
   "outputs": [],
   "source": []
  },
  {
   "cell_type": "code",
   "execution_count": null,
   "metadata": {
    "collapsed": true
   },
   "outputs": [],
   "source": []
  },
  {
   "cell_type": "markdown",
   "metadata": {},
   "source": [
    "### Metaclasses"
   ]
  },
  {
   "cell_type": "code",
   "execution_count": null,
   "metadata": {
    "collapsed": true
   },
   "outputs": [],
   "source": [
    "class DocMeta(type):\n",
    "\n",
    "    def __init__(self, name, bases, attrs):\n",
    "        for key, value in attrs.items():\n",
    "            # skip special and private methods\n",
    "            if key.startswith(\"__\"): continue\n",
    "            # skip any non-callable\n",
    "            if not hasattr(value, \"__call__\"): continue\n",
    "            # check for a doc string. a better way may be to store \n",
    "            # all methods without a docstring then throw an error showing\n",
    "            # all of them rather than stopping on first encounter\n",
    "            if not getattr(value, '__doc__'):\n",
    "                raise TypeError(\"%s must have a docstring\" % key)\n",
    "        type.__init__(self, name, bases, attrs)"
   ]
  },
  {
   "cell_type": "code",
   "execution_count": null,
   "metadata": {
    "collapsed": false
   },
   "outputs": [],
   "source": [
    "class Car(object):\n",
    "\n",
    "    __metaclass__ = DocMeta\n",
    "\n",
    "    def __init__(self, make, model, color):\n",
    "        self.make = make\n",
    "        self.model = model\n",
    "        self.color = color\n",
    "\n",
    "    def change_gear(self):\n",
    "        print(\"Changing gear\")\n",
    "\n",
    "    def start_engine(self):\n",
    "        print(\"Changing engine\")\n",
    "\n",
    "car = Car()"
   ]
  },
  {
   "cell_type": "code",
   "execution_count": null,
   "metadata": {
    "collapsed": true
   },
   "outputs": [],
   "source": [
    "class final(type):\n",
    "    def __init__(cls, name, bases, namespace):\n",
    "        super(final, cls).__init__(name, bases, namespace)\n",
    "        for klass in bases:\n",
    "            if isinstance(klass, final):\n",
    "                raise TypeError(str(klass.__name__) + \" is final\")"
   ]
  },
  {
   "cell_type": "code",
   "execution_count": null,
   "metadata": {
    "collapsed": false
   },
   "outputs": [],
   "source": [
    "class B(object):\n",
    "    __metaclass__ = final\n",
    "    \n",
    "class C(B):\n",
    "    pass"
   ]
  },
  {
   "cell_type": "code",
   "execution_count": null,
   "metadata": {
    "collapsed": true
   },
   "outputs": [],
   "source": []
  }
 ],
 "metadata": {
  "kernelspec": {
   "display_name": "Python 2",
   "language": "python",
   "name": "python2"
  },
  "language_info": {
   "codemirror_mode": {
    "name": "ipython",
    "version": 2
   },
   "file_extension": ".py",
   "mimetype": "text/x-python",
   "name": "python",
   "nbconvert_exporter": "python",
   "pygments_lexer": "ipython2",
   "version": "2.7.10"
  }
 },
 "nbformat": 4,
 "nbformat_minor": 0
}
