{
 "cells": [
  {
   "cell_type": "markdown",
   "metadata": {},
   "source": [
    "# Zen of Python"
   ]
  },
  {
   "cell_type": "markdown",
   "metadata": {},
   "source": [
    "The _Pythonic_ way to coding"
   ]
  },
  {
   "cell_type": "markdown",
   "metadata": {},
   "source": []
  },
  {
   "cell_type": "markdown",
   "metadata": {},
   "source": []
  },
  {
   "cell_type": "markdown",
   "metadata": {},
   "source": [
    "    Beautiful is better than ugly.\n",
    "    Explicit is better than implicit.\n",
    "    Simple is better than complex.\n",
    "    Complex is better than complicated.\n",
    "    Flat is better than nested.\n",
    "    Sparse is better than dense.\n",
    "    Readability counts.\n",
    "    Special cases aren't special enough to break the rules.\n",
    "    Although practicality beats purity.\n",
    "    Errors should never pass silently.\n",
    "    Unless explicitly silenced.\n",
    "    In the face of ambiguity, refuse the temptation to guess.\n",
    "    There should be one-- and preferably only one --obvious way to do it.\n",
    "    Although that way may not be obvious at first unless you're Dutch.\n",
    "    Now is better than never.\n",
    "    Although never is often better than *right* now.\n",
    "    If the implementation is hard to explain, it's a bad idea.\n",
    "    If the implementation is easy to explain, it may be a good idea.\n",
    "    Namespaces are one honking great idea -- let's do more of those!"
   ]
  },
  {
   "cell_type": "markdown",
   "metadata": {},
   "source": [
    "### References"
   ]
  },
  {
   "cell_type": "markdown",
   "metadata": {},
   "source": [
    "[PEP 0008 -- Style Guide for Python Code](https://www.python.org/dev/peps/pep-0008/)\n",
    "\n",
    "[PEP 20 -- The Zen of Python](https://www.python.org/dev/peps/pep-0020/)\n",
    "\n"
   ]
  },
  {
   "cell_type": "code",
   "execution_count": null,
   "metadata": {
    "collapsed": true
   },
   "outputs": [],
   "source": []
  }
 ],
 "metadata": {
  "kernelspec": {
   "display_name": "Python 2",
   "language": "python",
   "name": "python2"
  },
  "language_info": {
   "codemirror_mode": {
    "name": "ipython",
    "version": 2
   },
   "file_extension": ".py",
   "mimetype": "text/x-python",
   "name": "python",
   "nbconvert_exporter": "python",
   "pygments_lexer": "ipython2",
   "version": "2.7.10"
  }
 },
 "nbformat": 4,
 "nbformat_minor": 0
}
