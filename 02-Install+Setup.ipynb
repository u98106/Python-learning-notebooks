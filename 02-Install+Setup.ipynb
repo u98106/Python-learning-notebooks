{
 "cells": [
  {
   "cell_type": "markdown",
   "metadata": {},
   "source": [
    "# Installation and Setup"
   ]
  },
  {
   "cell_type": "markdown",
   "metadata": {
    "collapsed": true
   },
   "source": [
    "### Required applications"
   ]
  },
  {
   "cell_type": "markdown",
   "metadata": {},
   "source": [
    "1. python (2.7.10+)\n",
    "2. ipython\n",
    "3. notebook\n",
    "4. mongodb\n",
    "5. [mysql]"
   ]
  },
  {
   "cell_type": "markdown",
   "metadata": {},
   "source": [
    "### Python Install Options"
   ]
  },
  {
   "cell_type": "markdown",
   "metadata": {},
   "source": [
    "* [Python](https://www.python.org/downloads/) from python.org\n",
    "* [ActivePython](http://www.activestate.com/activepython/downloads)\n",
    "* [Anaconda](https://www.continuum.io/downloads)\n",
    "    * 'Fat' distribution; more 'batteries included'\n",
    "    * Convenient install command (conda) to install more"
   ]
  },
  {
   "cell_type": "markdown",
   "metadata": {},
   "source": []
  },
  {
   "cell_type": "markdown",
   "metadata": {},
   "source": [
    "### IDE Options"
   ]
  },
  {
   "cell_type": "markdown",
   "metadata": {},
   "source": [
    "* vim (for ssh connections)\n",
    "* IDLE\n",
    "* pycharm\n",
    "* Sublime Text"
   ]
  },
  {
   "cell_type": "markdown",
   "metadata": {},
   "source": [
    "### Required modules"
   ]
  },
  {
   "cell_type": "markdown",
   "metadata": {},
   "source": [
    "* numpy\n",
    "* pandas\n",
    "* django\n",
    "* pymongo\n",
    "* BeautifulSoup"
   ]
  },
  {
   "cell_type": "markdown",
   "metadata": {},
   "source": [
    "#### Installing modules\n",
    "\n",
    "* `pip install <module>`\n",
    "* `conda install <module>`"
   ]
  },
  {
   "cell_type": "code",
   "execution_count": null,
   "metadata": {
    "collapsed": true
   },
   "outputs": [],
   "source": []
  }
 ],
 "metadata": {
  "kernelspec": {
   "display_name": "Python 2",
   "language": "python",
   "name": "python2"
  },
  "language_info": {
   "codemirror_mode": {
    "name": "ipython",
    "version": 2
   },
   "file_extension": ".py",
   "mimetype": "text/x-python",
   "name": "python",
   "nbconvert_exporter": "python",
   "pygments_lexer": "ipython2",
   "version": "2.7.12"
  }
 },
 "nbformat": 4,
 "nbformat_minor": 0
}
