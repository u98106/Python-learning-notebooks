{
 "cells": [
  {
   "cell_type": "code",
   "execution_count": 58,
   "metadata": {
    "collapsed": true
   },
   "outputs": [],
   "source": [
    "from bs4 import BeautifulSoup\n",
    "from urllib2 import urlopen\n",
    "import re"
   ]
  },
  {
   "cell_type": "code",
   "execution_count": 59,
   "metadata": {
    "collapsed": false
   },
   "outputs": [
    {
     "data": {
      "text/plain": [
       "['hello', 'world', 'howdy']"
      ]
     },
     "execution_count": 59,
     "metadata": {},
     "output_type": "execute_result"
    }
   ],
   "source": [
    "re.findall(r'\\w+', 'hello world howdy')"
   ]
  },
  {
   "cell_type": "code",
   "execution_count": null,
   "metadata": {
    "collapsed": true
   },
   "outputs": [],
   "source": []
  },
  {
   "cell_type": "code",
   "execution_count": null,
   "metadata": {
    "collapsed": true
   },
   "outputs": [],
   "source": []
  },
  {
   "cell_type": "code",
   "execution_count": 46,
   "metadata": {
    "collapsed": true
   },
   "outputs": [],
   "source": [
    "gplay = BeautifulSoup(urlopen('https://play.google.com/store/movies?hl=en'))"
   ]
  },
  {
   "cell_type": "code",
   "execution_count": 51,
   "metadata": {
    "collapsed": false
   },
   "outputs": [
    {
     "data": {
      "text/plain": [
       "[<a aria-hidden=\"true\" class=\"title\" href=\"/store/movies/details/Finding_Dory?id=5aTCOrA80To\" tabindex=\"-1\" title=\"Finding Dory\">  Finding Dory <span class=\"paragraph-end\"></span> </a>,\n",
       " <a aria-hidden=\"true\" class=\"title\" href=\"/store/movies/details/Star_Trek_Beyond?id=kNBJ8JLHYuk\" tabindex=\"-1\" title=\"Star Trek Beyond\">  Star Trek Beyond <span class=\"paragraph-end\"></span> </a>,\n",
       " <a aria-hidden=\"true\" class=\"title\" href=\"/store/movies/details/Needhi_Singh?id=cEJun8AJ8yg\" tabindex=\"-1\" title=\"Needhi Singh\">  Needhi Singh <span class=\"paragraph-end\"></span> </a>,\n",
       " <a aria-hidden=\"true\" class=\"title\" href=\"/store/movies/details/Leeches?id=m1nMSN3-44k\" tabindex=\"-1\" title=\"Leeches\">  Leeches <span class=\"paragraph-end\"></span> </a>,\n",
       " <a aria-hidden=\"true\" class=\"title\" href=\"/store/movies/details/Placebo?id=RdPWmnr89pA\" tabindex=\"-1\" title=\"Placebo\">  Placebo <span class=\"paragraph-end\"></span> </a>,\n",
       " <a aria-hidden=\"true\" class=\"title\" href=\"/store/movies/details/Independence_Day_Resurgence?id=lfLe5NHPZko\" tabindex=\"-1\" title=\"Independence Day: Resurgence\">  Independence Day: Resurgence <span class=\"paragraph-end\"></span> </a>,\n",
       " <a aria-hidden=\"true\" class=\"title\" href=\"/store/movies/details/X_Men_Apocalypse?id=SEWVovtWC_U\" tabindex=\"-1\" title=\"X-Men: Apocalypse\">  X-Men: Apocalypse <span class=\"paragraph-end\"></span> </a>,\n",
       " <a aria-hidden=\"true\" class=\"title\" href=\"/store/movies/details/The_Jungle_Book_2016?id=0NHu6Adkjbo\" tabindex=\"-1\" title=\"The Jungle Book (2016)\">  The Jungle Book (2016) <span class=\"paragraph-end\"></span> </a>,\n",
       " <a aria-hidden=\"true\" class=\"title\" href=\"/store/movies/details/The_Legend_of_Tarzan?id=ysdsD_Qt0Es\" tabindex=\"-1\" title=\"The Legend of Tarzan\">  The Legend of Tarzan <span class=\"paragraph-end\"></span> </a>,\n",
       " <a aria-hidden=\"true\" class=\"title\" href=\"/store/movies/details/Sultan?id=zjW5Iw4Zy0Y\" tabindex=\"-1\" title=\"Sultan\">  Sultan <span class=\"paragraph-end\"></span> </a>,\n",
       " <a aria-hidden=\"true\" class=\"title\" href=\"/store/movies/details/Finding_Dory?id=5aTCOrA80To\" tabindex=\"-1\" title=\"Finding Dory\">  Finding Dory <span class=\"paragraph-end\"></span> </a>,\n",
       " <a aria-hidden=\"true\" class=\"title\" href=\"/store/movies/details/Independence_Day_Resurgence?id=lfLe5NHPZko\" tabindex=\"-1\" title=\"Independence Day: Resurgence\">  Independence Day: Resurgence <span class=\"paragraph-end\"></span> </a>,\n",
       " <a aria-hidden=\"true\" class=\"title\" href=\"/store/movies/details/X_Men_Apocalypse?id=SEWVovtWC_U\" tabindex=\"-1\" title=\"X-Men: Apocalypse\">  X-Men: Apocalypse <span class=\"paragraph-end\"></span> </a>,\n",
       " <a aria-hidden=\"true\" class=\"title\" href=\"/store/movies/details/The_Jungle_Book_2016?id=0NHu6Adkjbo\" tabindex=\"-1\" title=\"The Jungle Book (2016)\">  The Jungle Book (2016) <span class=\"paragraph-end\"></span> </a>,\n",
       " <a aria-hidden=\"true\" class=\"title\" href=\"/store/movies/details/Now_You_See_Me_2?id=KC-0PouS88Y\" tabindex=\"-1\" title=\"Now You See Me 2\">  Now You See Me 2 <span class=\"paragraph-end\"></span> </a>,\n",
       " <a aria-hidden=\"true\" class=\"title\" href=\"/store/movies/details/The_Legend_of_Tarzan?id=ysdsD_Qt0Es\" tabindex=\"-1\" title=\"The Legend of Tarzan\">  The Legend of Tarzan <span class=\"paragraph-end\"></span> </a>,\n",
       " <a aria-hidden=\"true\" class=\"title\" href=\"/store/movies/details/Star_Trek_Beyond?id=kNBJ8JLHYuk\" tabindex=\"-1\" title=\"Star Trek Beyond\">  Star Trek Beyond <span class=\"paragraph-end\"></span> </a>,\n",
       " <a aria-hidden=\"true\" class=\"title\" href=\"/store/movies/details/Sultan?id=zjW5Iw4Zy0Y\" tabindex=\"-1\" title=\"Sultan\">  Sultan <span class=\"paragraph-end\"></span> </a>,\n",
       " <a aria-hidden=\"true\" class=\"title\" href=\"/store/movies/details/Ice_Age_Collision_Course?id=dslwn6OwdmQ\" tabindex=\"-1\" title=\"Ice Age: Collision Course\">  Ice Age: Collision Course <span class=\"paragraph-end\"></span> </a>,\n",
       " <a aria-hidden=\"true\" class=\"title\" href=\"/store/movies/details/The_Conjuring_2?id=4ftJ-jLp3Yo\" tabindex=\"-1\" title=\"The Conjuring 2\">  The Conjuring 2 <span class=\"paragraph-end\"></span> </a>,\n",
       " <a aria-hidden=\"true\" class=\"title\" href=\"/store/movies/details/Sultan?id=zjW5Iw4Zy0Y\" tabindex=\"-1\" title=\"Sultan\">  Sultan <span class=\"paragraph-end\"></span> </a>,\n",
       " <a aria-hidden=\"true\" class=\"title\" href=\"/store/movies/details/Bajirao_Mastani?id=WUAMwN0-OAo\" tabindex=\"-1\" title=\"Bajirao Mastani\">  Bajirao Mastani <span class=\"paragraph-end\"></span> </a>,\n",
       " <a aria-hidden=\"true\" class=\"title\" href=\"/store/movies/details/Gangs_Of_Wasseypur?id=5hrIdP05Pew\" tabindex=\"-1\" title=\"Gangs Of Wasseypur\">  Gangs Of Wasseypur <span class=\"paragraph-end\"></span> </a>,\n",
       " <a aria-hidden=\"true\" class=\"title\" href=\"/store/movies/details/Rocket_Singh_Salesman_of_the_Year?id=HoADV_HAlOE\" tabindex=\"-1\" title=\"Rocket Singh - Salesman of the Year\">  Rocket Singh - Salesman of the Year <span class=\"paragraph-end\"></span> </a>,\n",
       " <a aria-hidden=\"true\" class=\"title\" href=\"/store/movies/details/Kapoor_Sons_Since_1921?id=8nUJnaKC5fo\" tabindex=\"-1\" title=\"Kapoor &amp; Sons (Since 1921)\">  Kapoor &amp; Sons (Since 1921) <span class=\"paragraph-end\"></span> </a>,\n",
       " <a aria-hidden=\"true\" class=\"title\" href=\"/store/movies/details/Dum_Laga_Ke_Haisha?id=Fp6Ux8C4pw4\" tabindex=\"-1\" title=\"Dum Laga Ke Haisha\">  Dum Laga Ke Haisha <span class=\"paragraph-end\"></span> </a>,\n",
       " <a aria-hidden=\"true\" class=\"title\" href=\"/store/movies/details/The_Attacks_Of_26_11?id=gv70tdtOO5k\" tabindex=\"-1\" title=\"The Attacks Of 26/11\">  The Attacks Of 26/11 <span class=\"paragraph-end\"></span> </a>,\n",
       " <a aria-hidden=\"true\" class=\"title\" href=\"/store/movies/details/Rockstar?id=X3y6xksjre4\" tabindex=\"-1\" title=\"Rockstar\">  Rockstar <span class=\"paragraph-end\"></span> </a>,\n",
       " <a aria-hidden=\"true\" class=\"title\" href=\"/store/movies/details/Dil_Dhadakne_Do?id=6f0sFCGBW_k\" tabindex=\"-1\" title=\"Dil Dhadakne Do\">  Dil Dhadakne Do <span class=\"paragraph-end\"></span> </a>,\n",
       " <a aria-hidden=\"true\" class=\"title\" href=\"/store/movies/details/Vicky_Donor?id=KDMztioQao4\" tabindex=\"-1\" title=\"Vicky Donor\">  Vicky Donor <span class=\"paragraph-end\"></span> </a>,\n",
       " <a aria-hidden=\"true\" class=\"title\" href=\"/store/movies/details/Now_You_See_Me_2?id=KC-0PouS88Y\" tabindex=\"-1\" title=\"Now You See Me 2\">  Now You See Me 2 <span class=\"paragraph-end\"></span> </a>,\n",
       " <a aria-hidden=\"true\" class=\"title\" href=\"/store/movies/details/Captain_America_Civil_War?id=SqLNDxbh1sM\" tabindex=\"-1\" title=\"Captain America: Civil War\">  Captain America: Civil War <span class=\"paragraph-end\"></span> </a>,\n",
       " <a aria-hidden=\"true\" class=\"title\" href=\"/store/movies/details/The_Conjuring_2?id=4ftJ-jLp3Yo\" tabindex=\"-1\" title=\"The Conjuring 2\">  The Conjuring 2 <span class=\"paragraph-end\"></span> </a>,\n",
       " <a aria-hidden=\"true\" class=\"title\" href=\"/store/movies/details/Ghostbusters?id=Uio6v-LB8Ks\" tabindex=\"-1\" title=\"Ghostbusters\">  Ghostbusters <span class=\"paragraph-end\"></span> </a>,\n",
       " <a aria-hidden=\"true\" class=\"title\" href=\"/store/movies/details/Star_Trek_Beyond?id=kNBJ8JLHYuk\" tabindex=\"-1\" title=\"Star Trek Beyond\">  Star Trek Beyond <span class=\"paragraph-end\"></span> </a>,\n",
       " <a aria-hidden=\"true\" class=\"title\" href=\"/store/movies/details/X_Men_Apocalypse?id=SEWVovtWC_U\" tabindex=\"-1\" title=\"X-Men: Apocalypse\">  X-Men: Apocalypse <span class=\"paragraph-end\"></span> </a>,\n",
       " <a aria-hidden=\"true\" class=\"title\" href=\"/store/movies/details/Independence_Day_Resurgence?id=lfLe5NHPZko\" tabindex=\"-1\" title=\"Independence Day: Resurgence\">  Independence Day: Resurgence <span class=\"paragraph-end\"></span> </a>,\n",
       " <a aria-hidden=\"true\" class=\"title\" href=\"/store/movies/details/The_Legend_of_Tarzan?id=ysdsD_Qt0Es\" tabindex=\"-1\" title=\"The Legend of Tarzan\">  The Legend of Tarzan <span class=\"paragraph-end\"></span> </a>,\n",
       " <a aria-hidden=\"true\" class=\"title\" href=\"/store/movies/details/Me_Before_You?id=YU9uIx2qhUs\" tabindex=\"-1\" title=\"Me Before You\">  Me Before You <span class=\"paragraph-end\"></span> </a>,\n",
       " <a aria-hidden=\"true\" class=\"title\" href=\"/store/movies/details/Kingsglaive_Final_Fantasy_XV?id=QNA41_CZipQ\" tabindex=\"-1\" title=\"Kingsglaive: Final Fantasy XV\">  Kingsglaive: Final Fantasy XV <span class=\"paragraph-end\"></span> </a>,\n",
       " <a aria-hidden=\"true\" class=\"title\" href=\"/store/movies/details/Chennai_Express?id=6q5p0IWiOvU\" tabindex=\"-1\" title=\"Chennai Express\">  Chennai Express <span class=\"paragraph-end\"></span> </a>,\n",
       " <a aria-hidden=\"true\" class=\"title\" href=\"/store/movies/details/Dilwale?id=2iBSsKB9_GQ\" tabindex=\"-1\" title=\"Dilwale\">  Dilwale <span class=\"paragraph-end\"></span> </a>,\n",
       " <a aria-hidden=\"true\" class=\"title\" href=\"/store/movies/details/Ra_One?id=uzmfVpBxlVc\" tabindex=\"-1\" title=\"Ra.One\">  Ra.One <span class=\"paragraph-end\"></span> </a>,\n",
       " <a aria-hidden=\"true\" class=\"title\" href=\"/store/movies/details/Jab_Tak_Hai_Jaan?id=yBm5dOd1bGo\" tabindex=\"-1\" title=\"Jab Tak Hai Jaan\">  Jab Tak Hai Jaan <span class=\"paragraph-end\"></span> </a>,\n",
       " <a aria-hidden=\"true\" class=\"title\" href=\"/store/movies/details/Fan?id=LCgcEt5WWDQ\" tabindex=\"-1\" title=\"Fan\">  Fan <span class=\"paragraph-end\"></span> </a>,\n",
       " <a aria-hidden=\"true\" class=\"title\" href=\"/store/movies/details/Rab_Ne_Bana_Di_Jodi?id=Nx98q8ch9UM\" tabindex=\"-1\" title=\"Rab Ne Bana Di Jodi\">  Rab Ne Bana Di Jodi <span class=\"paragraph-end\"></span> </a>,\n",
       " <a aria-hidden=\"true\" class=\"title\" href=\"/store/movies/details/Don?id=ynokjzrlBuQ\" tabindex=\"-1\" title=\"Don\">  Don <span class=\"paragraph-end\"></span> </a>,\n",
       " <a aria-hidden=\"true\" class=\"title\" href=\"/store/movies/details/Kal_Ho_Naa_Ho?id=7XufySEmABw\" tabindex=\"-1\" title=\"Kal Ho Naa Ho\">  Kal Ho Naa Ho <span class=\"paragraph-end\"></span> </a>,\n",
       " <a aria-hidden=\"true\" class=\"title\" href=\"/store/movies/details/Om_Shanti_Om?id=yvx1VY4dIFs\" tabindex=\"-1\" title=\"Om Shanti Om\">  Om Shanti Om <span class=\"paragraph-end\"></span> </a>,\n",
       " <a aria-hidden=\"true\" class=\"title\" href=\"/store/movies/details/Swades?id=smIYcmEhVSQ\" tabindex=\"-1\" title=\"Swades\">  Swades <span class=\"paragraph-end\"></span> </a>]"
      ]
     },
     "execution_count": 51,
     "metadata": {},
     "output_type": "execute_result"
    }
   ],
   "source": [
    "titles = []\n",
    "\n",
    "gplay.find_all('a', class_='title')"
   ]
  },
  {
   "cell_type": "code",
   "execution_count": 60,
   "metadata": {
    "collapsed": false
   },
   "outputs": [
    {
     "name": "stdout",
     "output_type": "stream",
     "text": [
      "Finding Dory\n",
      "Star Trek Beyond\n",
      "Needhi Singh\n",
      "Leeches\n",
      "Placebo\n",
      "Independence Day: Resurgence\n",
      "X-Men: Apocalypse\n",
      "The Jungle Book (2016)\n",
      "The Legend of Tarzan\n",
      "Sultan\n"
     ]
    },
    {
     "data": {
      "text/plain": [
       "[]"
      ]
     },
     "execution_count": 60,
     "metadata": {},
     "output_type": "execute_result"
    }
   ],
   "source": [
    "titles = []\n",
    "\n",
    "new_release_cluster = gplay.find('div', class_='id-cluster-container')\n",
    "h2 = new_release_cluster.find('h2', class_='single-title-link')\n",
    "if h2 and h2.a and re.match(r'New Release', h2.a.string, flags=re.IGNORECASE): \n",
    "    for a in new_release_cluster.find_all('a', class_='title'):\n",
    "        print a['title']\n",
    "    #titles.append(a['title'])\n",
    "    #titles.append(a)\n",
    "\n",
    "titles"
   ]
  },
  {
   "cell_type": "code",
   "execution_count": null,
   "metadata": {
    "collapsed": true
   },
   "outputs": [],
   "source": []
  }
 ],
 "metadata": {},
 "nbformat": 4,
 "nbformat_minor": 0
}
