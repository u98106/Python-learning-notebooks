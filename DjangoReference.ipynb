{
 "cells": [
  {
   "cell_type": "markdown",
   "metadata": {},
   "source": [
    "# Django Reference"
   ]
  },
  {
   "cell_type": "raw",
   "metadata": {},
   "source": [
    "import django\n",
    "print django.get_version"
   ]
  },
  {
   "cell_type": "raw",
   "metadata": {},
   "source": [
    "which django-admin"
   ]
  },
  {
   "cell_type": "raw",
   "metadata": {},
   "source": [
    "django-admin"
   ]
  },
  {
   "cell_type": "raw",
   "metadata": {},
   "source": [
    "django-admin startproject mysite"
   ]
  },
  {
   "cell_type": "raw",
   "metadata": {},
   "source": [
    "mysite\n",
    "mysite/manage.py\n",
    "mysite/mysite\n",
    "mysite/mysite/__init__.py\n",
    "mysite/mysite/settings.py\n",
    "mysite/mysite/urls.py\n",
    "mysite/mysite/wsgi.py"
   ]
  },
  {
   "cell_type": "raw",
   "metadata": {},
   "source": [
    "python manage.py runserver"
   ]
  },
  {
   "cell_type": "raw",
   "metadata": {},
   "source": [
    "Visit http://localhost:8000"
   ]
  },
  {
   "cell_type": "raw",
   "metadata": {},
   "source": [
    "python manage.py startapp hello"
   ]
  },
  {
   "cell_type": "raw",
   "metadata": {},
   "source": [
    "Edit:\n",
    "hello/views.py\n",
    "mysite/settings.py\n",
    "mysite/urls.py"
   ]
  },
  {
   "cell_type": "raw",
   "metadata": {},
   "source": [
    "python manage.py runserver"
   ]
  },
  {
   "cell_type": "raw",
   "metadata": {},
   "source": []
  },
  {
   "cell_type": "raw",
   "metadata": {},
   "source": []
  },
  {
   "cell_type": "raw",
   "metadata": {},
   "source": []
  },
  {
   "cell_type": "raw",
   "metadata": {},
   "source": []
  },
  {
   "cell_type": "raw",
   "metadata": {},
   "source": []
  }
 ],
 "metadata": {
  "kernelspec": {
   "display_name": "Python 2",
   "language": "python",
   "name": "python2"
  },
  "language_info": {
   "codemirror_mode": {
    "name": "ipython",
    "version": 2
   },
   "file_extension": ".py",
   "mimetype": "text/x-python",
   "name": "python",
   "nbconvert_exporter": "python",
   "pygments_lexer": "ipython2",
   "version": "2.7.10"
  }
 },
 "nbformat": 4,
 "nbformat_minor": 0
}
