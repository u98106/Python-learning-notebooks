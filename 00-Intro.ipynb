{
 "cells": [
  {
   "cell_type": "markdown",
   "metadata": {},
   "source": [
    "![Python Logo](python-logo.png)\n",
    "# Python Programming\n",
    "\n",
    "---"
   ]
  },
  {
   "cell_type": "markdown",
   "metadata": {},
   "source": [
    "### Prerequisites"
   ]
  },
  {
   "cell_type": "markdown",
   "metadata": {},
   "source": [
    "* Hands-on famiiarity with programming\n",
    "* #Advanced expertise with at least one programming language\n",
    "* (Desirable) Exposure to 'scripting' languages/environments\n",
    "\n",
    "* From ground-up\n",
    "* Concept, demo, hands-on trials. Repeat.\n",
    "* Larger cumulative exercises in between\n"
   ]
  },
  {
   "cell_type": "markdown",
   "metadata": {},
   "source": [
    "### Faculty Intro"
   ]
  },
  {
   "cell_type": "markdown",
   "metadata": {},
   "source": [
    "* Ashish Gulati\n",
    "* 16 years in the industry: 13 in product dev, 3 in training, consulting\n",
    "* Expertise area: Programming Languages\n",
    "    * Perl, Python, TCL/Tk, shell scripting\n",
    "    * C, C++\n",
    "* In python\n",
    "    * core Python (CPython)\n",
    "    * Data science\n",
    "    * Python in education; Jupyter (notebook) project development"
   ]
  },
  {
   "cell_type": "markdown",
   "metadata": {},
   "source": [
    "### Class Profile"
   ]
  },
  {
   "cell_type": "markdown",
   "metadata": {},
   "source": [
    "#### Familiarity with Python?"
   ]
  },
  {
   "cell_type": "markdown",
   "metadata": {},
   "source": [
    "1. Expert\n",
    "2. Intermediate; hands-on\n",
    "3. Basic; not hands-on\n",
    "4. First timer"
   ]
  },
  {
   "cell_type": "markdown",
   "metadata": {},
   "source": [
    "#### Role?"
   ]
  },
  {
   "cell_type": "markdown",
   "metadata": {},
   "source": [
    "1. Product development\n",
    "2. Product QA/Test\n",
    "3. Systems Administration"
   ]
  },
  {
   "cell_type": "markdown",
   "metadata": {},
   "source": [
    "### Agenda"
   ]
  },
  {
   "cell_type": "markdown",
   "metadata": {},
   "source": [
    "[Master Python Course](./MasteringPython.pdf)"
   ]
  },
  {
   "cell_type": "code",
   "execution_count": null,
   "metadata": {
    "collapsed": true
   },
   "outputs": [],
   "source": []
  }
 ],
 "metadata": {
  "kernelspec": {
   "display_name": "Python 2",
   "language": "python",
   "name": "python2"
  },
  "language_info": {
   "codemirror_mode": {
    "name": "ipython",
    "version": 2
   },
   "file_extension": ".py",
   "mimetype": "text/x-python",
   "name": "python",
   "nbconvert_exporter": "python",
   "pygments_lexer": "ipython2",
   "version": "2.7.12"
  }
 },
 "nbformat": 4,
 "nbformat_minor": 0
}
