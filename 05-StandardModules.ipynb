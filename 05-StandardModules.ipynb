{
 "cells": [
  {
   "cell_type": "markdown",
   "metadata": {},
   "source": [
    "# Standard modules"
   ]
  },
  {
   "cell_type": "code",
   "execution_count": 1,
   "metadata": {
    "collapsed": false
   },
   "outputs": [
    {
     "data": {
      "text/html": [
       "<style>table td:nth-child(1) {font-weight:bold; background-color: #fec;}</style>"
      ],
      "text/plain": [
       "<IPython.core.display.HTML object>"
      ]
     },
     "execution_count": 1,
     "metadata": {},
     "output_type": "execute_result"
    }
   ],
   "source": [
    "from IPython.core.display import HTML\n",
    "css = \"table td:nth-child(1) {font-weight:bold; background-color: #fec;}\"\n",
    "HTML('<style>{}</style>'.format(css))"
   ]
  },
  {
   "cell_type": "markdown",
   "metadata": {},
   "source": [
    "### `sys` : System-specific parameters and functions"
   ]
  },
  {
   "cell_type": "markdown",
   "metadata": {},
   "source": [
    "Attribute | \n",
    "---|---\n",
    "sys.argv | list of cmd line args passed to a script; `argv[0]` is the script path\n",
    "sys.ps1 | Primary shell prompt\n",
    "sys.ps2 | Secondary shell prompt\n",
    "sys.stdin | Standard Input file object; mutable\n",
    "sys.stdout |  Standard Output file object; mutable\n",
    "sys.stderr |  Standard Error file object; mutable\n",
    "sys.\\__stdin\\__ | Original value of `sys.stdin`\n",
    "sys.\\__stdout\\__ |  Original value of `sys.stdout`\n",
    "sys.\\__stderr\\__ |  Original value of `sys.stderr`\n",
    "sys.executable | Path to the python executable\n",
    "sys.path | List of search paths for python modules; initialized from `PYTHONPATH` env var\n",
    "sys.platform | Platform identifier string\n"
   ]
  },
  {
   "cell_type": "markdown",
   "metadata": {},
   "source": [
    "System\t| platform value\n",
    "---|---\n",
    "Linux (2.x and 3.x)\t| 'linux2'\n",
    "Windows\t| 'win32'\n",
    "Windows/Cygwin\t| 'cygwin'\n",
    "Mac OS X\t| 'darwin'\n",
    "OS/2\t| 'os2'\n",
    "OS/2 EMX\t| 'os2emx'\n",
    "RiscOS\t| 'riscos'\n",
    "AtheOS\t| 'atheos'"
   ]
  },
  {
   "cell_type": "code",
   "execution_count": null,
   "metadata": {
    "collapsed": true
   },
   "outputs": [],
   "source": [
    "import sys\n",
    "sys.stdout = open(\"output\",\"w\")"
   ]
  },
  {
   "cell_type": "code",
   "execution_count": null,
   "metadata": {
    "collapsed": true
   },
   "outputs": [],
   "source": [
    "print 'hello'\n",
    "sys.stdout.close()\n",
    "sys.stdout = sys.__stdout__"
   ]
  },
  {
   "cell_type": "code",
   "execution_count": null,
   "metadata": {
    "collapsed": false
   },
   "outputs": [],
   "source": []
  },
  {
   "cell_type": "code",
   "execution_count": null,
   "metadata": {
    "collapsed": false
   },
   "outputs": [],
   "source": [
    "import glob\n",
    "glob.glob('notebooks/*.ipynb')"
   ]
  },
  {
   "cell_type": "markdown",
   "metadata": {},
   "source": [
    "### os"
   ]
  },
  {
   "cell_type": "markdown",
   "metadata": {},
   "source": [
    "Python provides a wide variety of operating system interfaces"
   ]
  },
  {
   "cell_type": "markdown",
   "metadata": {},
   "source": [
    "* Basic system calls \n",
    "* Operating environment \n",
    "* Processes\n",
    "* Timers\n",
    "* Signal handling \n",
    "* Error reporting \n",
    "* Users and passwords"
   ]
  },
  {
   "cell_type": "markdown",
   "metadata": {},
   "source": [
    "* A large portion of this functionality is contained in the os module.\n",
    "* The interface is based on POSIX.\n",
    "* Not all functions are available on all platforms (especially Windows/Mac)."
   ]
  },
  {
   "cell_type": "markdown",
   "metadata": {},
   "source": [
    "#### os.path : File and path manipulation"
   ]
  },
  {
   "cell_type": "code",
   "execution_count": null,
   "metadata": {
    "collapsed": true
   },
   "outputs": [],
   "source": [
    "abspath(path)   # Returns the absolute pathname of a path\n",
    "basename(path)  # Returns filename component of path\n",
    "dirname(path)   # Returns directory component of path\n",
    "normcase(path)  # Normalize capitalization of a name\n",
    "normpath(path)  # Normalize a pathname\n",
    "split(path)     # Split path into (directory, file)\n",
    "splitdrive(path)# Split path into (drive, pathname)\n",
    "splitext(path)  # Split path into (filename, suffix)\n",
    "expanduser(path)# Expands ~user components\n",
    "expandvars(path)# Expands environment vars ’$name’ or ’${name}’\n",
    "join(p1,p2,...) # Join pathname components"
   ]
  },
  {
   "cell_type": "code",
   "execution_count": null,
   "metadata": {
    "collapsed": false
   },
   "outputs": [],
   "source": [
    "from os.path import abspath, basename, dirname, normpath, split, splitext\n",
    "abspath(\"../foo\")"
   ]
  },
  {
   "cell_type": "code",
   "execution_count": null,
   "metadata": {
    "collapsed": false
   },
   "outputs": [],
   "source": [
    "basename(\"/usr/bin/python\")"
   ]
  },
  {
   "cell_type": "code",
   "execution_count": null,
   "metadata": {
    "collapsed": false
   },
   "outputs": [],
   "source": [
    "dirname(\"/usr/bin/python\")"
   ]
  },
  {
   "cell_type": "code",
   "execution_count": null,
   "metadata": {
    "collapsed": false
   },
   "outputs": [],
   "source": [
    "normpath(\"/usr/./bin/python\")"
   ]
  },
  {
   "cell_type": "code",
   "execution_count": null,
   "metadata": {
    "collapsed": false
   },
   "outputs": [],
   "source": [
    "split(\"/usr/bin/python\")"
   ]
  },
  {
   "cell_type": "code",
   "execution_count": null,
   "metadata": {
    "collapsed": false
   },
   "outputs": [],
   "source": [
    "splitext(\"index.html\")"
   ]
  },
  {
   "cell_type": "markdown",
   "metadata": {},
   "source": [
    "#### os.path : Functions for portable filename inquires"
   ]
  },
  {
   "cell_type": "code",
   "execution_count": null,
   "metadata": {
    "collapsed": false
   },
   "outputs": [],
   "source": [
    "exists(path)    # Test for existence\n",
    "isabs(path)     # Return 1 if path is an absolute pathname\n",
    "isfile(path)    # Return 1 if path is a regular file\n",
    "isdir(path)     # Return 1 if path is a directory\n",
    "islink(path)    # Return 1 if path is a symlink\n",
    "ismount(path)   # Return 1 if path is a mountpoint\n",
    "getatime(path)  # Get access time\n",
    "getmtime(path)  # Get modification time\n",
    "getsize(path)   # Get file size in bytes\n",
    "samefile(path1,path2)   # Return 1 if path1 and path2 are the same file\n",
    "sameopenfile(f1,f2)     # Return 1 if file objects f1 and f2 are same file."
   ]
  },
  {
   "cell_type": "markdown",
   "metadata": {},
   "source": [
    "#### File and dir operations"
   ]
  },
  {
   "cell_type": "code",
   "execution_count": null,
   "metadata": {
    "collapsed": false
   },
   "outputs": [],
   "source": [
    "dir(os)"
   ]
  },
  {
   "cell_type": "code",
   "execution_count": null,
   "metadata": {
    "collapsed": true
   },
   "outputs": [],
   "source": [
    "chdir()\n",
    "chown()\n",
    "chroot()\n",
    "getcwd()\n",
    "getenv()\n",
    "listdir()\n",
    "mkdir()\n",
    "rmdir()\n",
    "rename()\n",
    "popen()\n",
    "popen2()"
   ]
  },
  {
   "cell_type": "code",
   "execution_count": null,
   "metadata": {
    "collapsed": false
   },
   "outputs": [],
   "source": []
  },
  {
   "cell_type": "code",
   "execution_count": null,
   "metadata": {
    "collapsed": true
   },
   "outputs": [],
   "source": []
  },
  {
   "cell_type": "markdown",
   "metadata": {},
   "source": [
    "#### Low-level File and Directory Manipulation"
   ]
  },
  {
   "cell_type": "markdown",
   "metadata": {},
   "source": [
    "Portable way to access OS file and dir operations"
   ]
  },
  {
   "cell_type": "code",
   "execution_count": null,
   "metadata": {
    "collapsed": true
   },
   "outputs": [],
   "source": [
    "os.access(path,accessmode)    # Checks access permissions on a file\n",
    "os.chmod(path,mode)           # Change file permissions\n",
    "os.chown(path,uid,gid)        # Change owner and group permissions\n",
    "os.link(src,dst)              # Create a hard link\n",
    "os.listdir(path)              # Return a list of names in a directory\n",
    "os.mkdir(path [,mode])        # Create a directory\n",
    "os.remove(path)               # Remove a file\n",
    "os.rename(src,dst)            # Rename a file\n",
    "os.rmdir(path)                # Remove a directory\n",
    "os.stat(path)                 # Return file information\n",
    "os.statvfs(path)              # Return filesystem information\n",
    "os.symlink(src,dst)           # Create a symbolic link\n",
    "os.unlink(path)               # Remove a file (same as remove)\n",
    "os.utime(path,(atime,mtime))  # Change access and modification times"
   ]
  },
  {
   "cell_type": "markdown",
   "metadata": {},
   "source": []
  },
  {
   "cell_type": "markdown",
   "metadata": {},
   "source": []
  },
  {
   "cell_type": "markdown",
   "metadata": {
    "collapsed": true
   },
   "source": [
    "### High Level file operations : shutil module"
   ]
  },
  {
   "cell_type": "code",
   "execution_count": null,
   "metadata": {
    "collapsed": false
   },
   "outputs": [],
   "source": [
    "import shutil"
   ]
  },
  {
   "cell_type": "code",
   "execution_count": null,
   "metadata": {
    "collapsed": true
   },
   "outputs": [],
   "source": [
    "shutil.copyfileobj(fsrc, fdst)    # open file objects\n",
    "shutil.copyfile(src, dst)         # just file contents\n",
    "shutil.copy(src, dst)             # contents+perm bits\n",
    "shutil.copymode(src, dst)         # mode bits\n",
    "shutil.copystat(src, dst)         # all file metadata\n",
    "shutil.copy2(src, dst)            # copy+copystat"
   ]
  },
  {
   "cell_type": "code",
   "execution_count": null,
   "metadata": {
    "collapsed": true
   },
   "outputs": [],
   "source": [
    "shutil.copytree(src, dst, ignore=None, symlinks=False)\n",
    "shutil.ignore_patterns(*patterns)\n",
    "shutil.rmtree(path)\n",
    "shutil.move(src, dst)"
   ]
  },
  {
   "cell_type": "markdown",
   "metadata": {},
   "source": [
    "### Misc"
   ]
  },
  {
   "cell_type": "markdown",
   "metadata": {},
   "source": [
    "#### StringIO"
   ]
  },
  {
   "cell_type": "code",
   "execution_count": null,
   "metadata": {
    "collapsed": false
   },
   "outputs": [],
   "source": [
    "import StringIO\n",
    "f = StringIO.StringIO()\n",
    "f.write(\"Hello World\\n\")\n",
    "f.getvalue()"
   ]
  },
  {
   "cell_type": "markdown",
   "metadata": {},
   "source": [
    "* `cStringIO` is a C-implementation of the same lib\n",
    "    * much faster\n",
    "    * can't be sub-classed\n",
    "* StringIO is python; can be sub-classed\n",
    "* StringIO objects support most of the normal file operations"
   ]
  },
  {
   "cell_type": "markdown",
   "metadata": {},
   "source": [
    "#### time"
   ]
  },
  {
   "cell_type": "code",
   "execution_count": null,
   "metadata": {
    "collapsed": false
   },
   "outputs": [],
   "source": [
    "time.clock()        # Current CPU time in seconds\n",
    "time.time()         # Current time (GMT) in seconds since epoch\n",
    "time.localtime(secs)# Convert time to local time (returns a tuple).\n",
    "time.gmtime(secs)   # Convert time to GMT (returns a tuple)\n",
    "time.asctime(tuple) # Creates a string representing the time\n",
    "time.ctime(secs)    # Create a string representing local time\n",
    "time.mktime(tuple)  # Convert time tuple to seconds\n",
    "time.sleep(secs)    # Go to sleep for a while"
   ]
  },
  {
   "cell_type": "code",
   "execution_count": null,
   "metadata": {
    "collapsed": false
   },
   "outputs": [],
   "source": [
    "import time\n",
    "t = time.time()\n",
    "t"
   ]
  },
  {
   "cell_type": "code",
   "execution_count": null,
   "metadata": {
    "collapsed": false
   },
   "outputs": [],
   "source": [
    "tp = time.localtime(t)\n",
    "tp"
   ]
  },
  {
   "cell_type": "code",
   "execution_count": null,
   "metadata": {
    "collapsed": false
   },
   "outputs": [],
   "source": [
    "time.asctime(tp)"
   ]
  },
  {
   "cell_type": "markdown",
   "metadata": {},
   "source": []
  },
  {
   "cell_type": "code",
   "execution_count": null,
   "metadata": {
    "collapsed": true
   },
   "outputs": [],
   "source": []
  },
  {
   "cell_type": "code",
   "execution_count": null,
   "metadata": {
    "collapsed": true
   },
   "outputs": [],
   "source": []
  },
  {
   "cell_type": "code",
   "execution_count": null,
   "metadata": {
    "collapsed": true
   },
   "outputs": [],
   "source": []
  },
  {
   "cell_type": "code",
   "execution_count": null,
   "metadata": {
    "collapsed": true
   },
   "outputs": [],
   "source": []
  },
  {
   "cell_type": "code",
   "execution_count": null,
   "metadata": {
    "collapsed": true
   },
   "outputs": [],
   "source": []
  }
 ],
 "metadata": {
  "kernelspec": {
   "display_name": "Python 2",
   "language": "python",
   "name": "python2"
  },
  "language_info": {
   "codemirror_mode": {
    "name": "ipython",
    "version": 2
   },
   "file_extension": ".py",
   "mimetype": "text/x-python",
   "name": "python",
   "nbconvert_exporter": "python",
   "pygments_lexer": "ipython2",
   "version": "2.7.12"
  }
 },
 "nbformat": 4,
 "nbformat_minor": 0
}
