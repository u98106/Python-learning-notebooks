{
 "cells": [
  {
   "cell_type": "code",
   "execution_count": 1,
   "metadata": {
    "collapsed": false
   },
   "outputs": [],
   "source": [
    "import multiprocessing"
   ]
  },
  {
   "cell_type": "code",
   "execution_count": null,
   "metadata": {
    "collapsed": true
   },
   "outputs": [],
   "source": []
  },
  {
   "cell_type": "code",
   "execution_count": null,
   "metadata": {
    "collapsed": true
   },
   "outputs": [],
   "source": []
  },
  {
   "cell_type": "code",
   "execution_count": 8,
   "metadata": {
    "collapsed": false
   },
   "outputs": [
    {
     "data": {
      "text/plain": [
       "['Array',\n",
       " 'AuthenticationError',\n",
       " 'BoundedSemaphore',\n",
       " 'BufferTooShort',\n",
       " 'Condition',\n",
       " 'Event',\n",
       " 'JoinableQueue',\n",
       " 'Lock',\n",
       " 'Manager',\n",
       " 'Pipe',\n",
       " 'Pool',\n",
       " 'Process',\n",
       " 'ProcessError',\n",
       " 'Queue',\n",
       " 'RLock',\n",
       " 'RawArray',\n",
       " 'RawValue',\n",
       " 'SUBDEBUG',\n",
       " 'SUBWARNING',\n",
       " 'Semaphore',\n",
       " 'TimeoutError',\n",
       " 'Value',\n",
       " '__all__',\n",
       " '__author__',\n",
       " '__builtins__',\n",
       " '__doc__',\n",
       " '__file__',\n",
       " '__name__',\n",
       " '__package__',\n",
       " '__path__',\n",
       " '__version__',\n",
       " '_multiprocessing',\n",
       " 'active_children',\n",
       " 'allow_connection_pickling',\n",
       " 'cpu_count',\n",
       " 'current_process',\n",
       " 'forking',\n",
       " 'freeze_support',\n",
       " 'get_logger',\n",
       " 'log_to_stderr',\n",
       " 'os',\n",
       " 'process',\n",
       " 'sys',\n",
       " 'util']"
      ]
     },
     "execution_count": 8,
     "metadata": {},
     "output_type": "execute_result"
    }
   ],
   "source": [
    "dir(multiprocessing)"
   ]
  },
  {
   "cell_type": "code",
   "execution_count": 9,
   "metadata": {
    "collapsed": true
   },
   "outputs": [],
   "source": [
    "mgr = multiprocessing.Manager()"
   ]
  },
  {
   "cell_type": "code",
   "execution_count": null,
   "metadata": {
    "collapsed": true
   },
   "outputs": [],
   "source": [
    "mgr."
   ]
  },
  {
   "cell_type": "code",
   "execution_count": null,
   "metadata": {
    "collapsed": true
   },
   "outputs": [],
   "source": [
    " 'Process',\n",
    "\n",
    " 'Lock',\n",
    " 'RLock',\n",
    " 'Semaphore',\n",
    "\n",
    " 'BoundedSemaphore',\n",
    " 'Condition',\n",
    " 'Event',\n",
    "\n",
    "'Queue',\n",
    "'JoinableQueue',\n",
    "\n",
    " 'Manager',\n",
    " 'Pool',\n"
   ]
  },
  {
   "cell_type": "markdown",
   "metadata": {},
   "source": [
    "#### Calling Process directly"
   ]
  },
  {
   "cell_type": "code",
   "execution_count": null,
   "metadata": {
    "collapsed": true
   },
   "outputs": [],
   "source": [
    "Process(target=func)"
   ]
  },
  {
   "cell_type": "code",
   "execution_count": null,
   "metadata": {
    "collapsed": true
   },
   "outputs": [],
   "source": [
    "Process(target=func, args=(1,2,3))"
   ]
  },
  {
   "cell_type": "markdown",
   "metadata": {},
   "source": [
    "#### Subclassing"
   ]
  },
  {
   "cell_type": "code",
   "execution_count": null,
   "metadata": {
    "collapsed": true
   },
   "outputs": [],
   "source": [
    "class worker(Process):\n",
    "    def run(self):\n",
    "        pass"
   ]
  },
  {
   "cell_type": "code",
   "execution_count": null,
   "metadata": {
    "collapsed": true
   },
   "outputs": [],
   "source": []
  },
  {
   "cell_type": "markdown",
   "metadata": {},
   "source": [
    "#### Synchronizing shared resource"
   ]
  },
  {
   "cell_type": "code",
   "execution_count": null,
   "metadata": {
    "collapsed": true
   },
   "outputs": [],
   "source": [
    "Lock\n",
    ".acquire()\n",
    ".release()"
   ]
  },
  {
   "cell_type": "code",
   "execution_count": null,
   "metadata": {
    "collapsed": true
   },
   "outputs": [],
   "source": [
    "RLock"
   ]
  },
  {
   "cell_type": "code",
   "execution_count": null,
   "metadata": {
    "collapsed": true
   },
   "outputs": [],
   "source": []
  },
  {
   "cell_type": "code",
   "execution_count": null,
   "metadata": {
    "collapsed": true
   },
   "outputs": [],
   "source": []
  },
  {
   "cell_type": "code",
   "execution_count": 1,
   "metadata": {
    "collapsed": false
   },
   "outputs": [],
   "source": [
    "import threading/multiprocessing"
   ]
  },
  {
   "cell_type": "code",
   "execution_count": 2,
   "metadata": {
    "collapsed": true
   },
   "outputs": [],
   "source": [
    "def f(a,b):\n",
    "    print 'hello'\n",
    "\n",
    "\n",
    "t = multiprocessing.Process(target=f, args=(1,2))\n",
    "t.start()"
   ]
  },
  {
   "cell_type": "code",
   "execution_count": null,
   "metadata": {
    "collapsed": true
   },
   "outputs": [],
   "source": [
    "\n",
    "\n",
    "class Worker(threading.Thread):\n",
    "    def __init__(self):\n",
    "        \n",
    "        self.rlock = threading.Semaphore(5)\n",
    "        self.wlock = thread.Lock()\n",
    "        self.fobj = open('dummy.txt')\n",
    "        \n",
    "    \n",
    "    def run(self):\n",
    "        #self.lock.acquire()\n",
    "        self.wlock.acquire()\n",
    "        with self.rlock:\n",
    "            for line in self.fobj:\n",
    "                pass\n",
    "        #self.lock.release()\n",
    "        \n",
    "        \n",
    "    pass\n",
    "\n",
    "w = Worker()\n",
    "w.start()"
   ]
  },
  {
   "cell_type": "code",
   "execution_count": null,
   "metadata": {
    "collapsed": true
   },
   "outputs": [],
   "source": []
  },
  {
   "cell_type": "code",
   "execution_count": null,
   "metadata": {
    "collapsed": true
   },
   "outputs": [],
   "source": []
  },
  {
   "cell_type": "code",
   "execution_count": null,
   "metadata": {
    "collapsed": true
   },
   "outputs": [],
   "source": []
  },
  {
   "cell_type": "code",
   "execution_count": null,
   "metadata": {
    "collapsed": true
   },
   "outputs": [],
   "source": []
  },
  {
   "cell_type": "code",
   "execution_count": null,
   "metadata": {
    "collapsed": true
   },
   "outputs": [],
   "source": []
  }
 ],
 "metadata": {
  "kernelspec": {
   "display_name": "Python 2",
   "language": "python",
   "name": "python2"
  },
  "language_info": {
   "codemirror_mode": {
    "name": "ipython",
    "version": 2
   },
   "file_extension": ".py",
   "mimetype": "text/x-python",
   "name": "python",
   "nbconvert_exporter": "python",
   "pygments_lexer": "ipython2",
   "version": "2.7.10"
  }
 },
 "nbformat": 4,
 "nbformat_minor": 0
}
