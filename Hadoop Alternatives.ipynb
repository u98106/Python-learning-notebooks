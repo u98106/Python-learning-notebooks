{
 "cells": [
  {
   "cell_type": "markdown",
   "metadata": {},
   "source": [
    "# Hadoop/MapReduce Alternatives"
   ]
  },
  {
   "cell_type": "markdown",
   "metadata": {},
   "source": [
    "## 1. Apache Spark\n",
    "\n",
    "* (Claimed) speed-up of ~100x over Hadoop\n",
    "* Key idea: Resilient Distributed Datasets (RDD's)\n",
    "    * Cached data sets that try to minimize disk-lookups\n",
    "* DataFrame's (pandas) implemented on top of RDD's\n",
    "* Easy to transition from pandas to Spark\n",
    "* Runs on JVM: Scala\n",
    "* Programmable in : Scala, Java, Python (pyspark)\n"
   ]
  },
  {
   "cell_type": "markdown",
   "metadata": {},
   "source": [
    "## 2. Apache Storm"
   ]
  },
  {
   "cell_type": "markdown",
   "metadata": {},
   "source": [
    "## 3. Disco Project"
   ]
  },
  {
   "cell_type": "markdown",
   "metadata": {},
   "source": []
  },
  {
   "cell_type": "markdown",
   "metadata": {},
   "source": []
  },
  {
   "cell_type": "markdown",
   "metadata": {},
   "source": [
    "## MongoDB\n",
    "\n",
    "* nosql DB\n",
    "* object data store\n",
    "* distributed, cluster-based architecture\n",
    "* non-centralized, co-operative\n",
    "* pymongo\n",
    "* has a map-reduce component programmable using javascript"
   ]
  },
  {
   "cell_type": "markdown",
   "metadata": {},
   "source": []
  },
  {
   "cell_type": "markdown",
   "metadata": {},
   "source": []
  },
  {
   "cell_type": "markdown",
   "metadata": {},
   "source": []
  }
 ],
 "metadata": {
  "kernelspec": {
   "display_name": "Python 2",
   "language": "python",
   "name": "python2"
  },
  "language_info": {
   "codemirror_mode": {
    "name": "ipython",
    "version": 2
   },
   "file_extension": ".py",
   "mimetype": "text/x-python",
   "name": "python",
   "nbconvert_exporter": "python",
   "pygments_lexer": "ipython2",
   "version": "2.7.12"
  }
 },
 "nbformat": 4,
 "nbformat_minor": 0
}
